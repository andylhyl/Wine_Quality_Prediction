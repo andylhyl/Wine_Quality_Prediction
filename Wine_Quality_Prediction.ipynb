{
 "cells": [
  {
   "cell_type": "markdown",
   "metadata": {},
   "source": [
    "# 🍷 Wine Quality Prediction\n",
    "\n",
    "In this project, we delve into the world of Portuguese \"Vinho Verde\" wine. Using a dataset that captures various physicochemical properties of the wine, our aim is to predict its quality. The dataset offers a rich variety of variables, from acidity levels to alcohol content. \n",
    "\n",
    "**Approach:** We'll be exploring the dataset using **Regression** as the main prediction approach.\n",
    "\n",
    "---\n",
    "\n",
    "**Notebook Overview:**\n",
    "- This notebook will walk you through:\n",
    "  - Data exploration\n",
    "  - Preprocessing\n",
    "  - Model selection\n",
    "  - Evaluation stages\n",
    "  \n",
    "Let's get started!  ：)"
   ]
  },
  {
   "cell_type": "markdown",
   "metadata": {},
   "source": [
    "## Data Cleaning"
   ]
  },
  {
   "cell_type": "markdown",
   "metadata": {},
   "source": [
    "- The provider of the wine quality dataset had provided two dataset file, with them related to red and white vinho verde wine samples, from the north of Portugal. We would want to combine the two dataset together, but before we do so, we want to look at the outlier from the respective dataset first. Since the observation data can have quite a different mean and spread due to the type different of red and white wine, if we were to remove outliers from the stacked dataset, we might be removing too much of certain type of wine data observation. \n",
    "\n",
    "- After we have the stacked data, we would also want to do some cleaning base on checking missing values, duplicate obseravtion, and turning text into numeric variables.\n",
    "\n",
    "- And to finish off our cleaning process, we would also like to discover any interaction term and try too add them to our dataset."
   ]
  },
  {
   "cell_type": "code",
   "execution_count": 1,
   "metadata": {
    "scrolled": false
   },
   "outputs": [
    {
     "data": {
      "text/html": [
       "<table>\n",
       "<caption>A data.frame: 2 × 12</caption>\n",
       "<thead>\n",
       "\t<tr><th></th><th scope=col>fixed.acidity</th><th scope=col>volatile.acidity</th><th scope=col>citric.acid</th><th scope=col>residual.sugar</th><th scope=col>chlorides</th><th scope=col>free.sulfur.dioxide</th><th scope=col>total.sulfur.dioxide</th><th scope=col>density</th><th scope=col>pH</th><th scope=col>sulphates</th><th scope=col>alcohol</th><th scope=col>quality</th></tr>\n",
       "\t<tr><th></th><th scope=col>&lt;dbl&gt;</th><th scope=col>&lt;dbl&gt;</th><th scope=col>&lt;dbl&gt;</th><th scope=col>&lt;dbl&gt;</th><th scope=col>&lt;dbl&gt;</th><th scope=col>&lt;dbl&gt;</th><th scope=col>&lt;dbl&gt;</th><th scope=col>&lt;dbl&gt;</th><th scope=col>&lt;dbl&gt;</th><th scope=col>&lt;dbl&gt;</th><th scope=col>&lt;dbl&gt;</th><th scope=col>&lt;int&gt;</th></tr>\n",
       "</thead>\n",
       "<tbody>\n",
       "\t<tr><th scope=row>1</th><td>7.4</td><td>0.70</td><td>0</td><td>1.9</td><td>0.076</td><td>11</td><td>34</td><td>0.9978</td><td>3.51</td><td>0.56</td><td>9.4</td><td>5</td></tr>\n",
       "\t<tr><th scope=row>2</th><td>7.8</td><td>0.88</td><td>0</td><td>2.6</td><td>0.098</td><td>25</td><td>67</td><td>0.9968</td><td>3.20</td><td>0.68</td><td>9.8</td><td>5</td></tr>\n",
       "</tbody>\n",
       "</table>\n"
      ],
      "text/latex": [
       "A data.frame: 2 × 12\n",
       "\\begin{tabular}{r|llllllllllll}\n",
       "  & fixed.acidity & volatile.acidity & citric.acid & residual.sugar & chlorides & free.sulfur.dioxide & total.sulfur.dioxide & density & pH & sulphates & alcohol & quality\\\\\n",
       "  & <dbl> & <dbl> & <dbl> & <dbl> & <dbl> & <dbl> & <dbl> & <dbl> & <dbl> & <dbl> & <dbl> & <int>\\\\\n",
       "\\hline\n",
       "\t1 & 7.4 & 0.70 & 0 & 1.9 & 0.076 & 11 & 34 & 0.9978 & 3.51 & 0.56 & 9.4 & 5\\\\\n",
       "\t2 & 7.8 & 0.88 & 0 & 2.6 & 0.098 & 25 & 67 & 0.9968 & 3.20 & 0.68 & 9.8 & 5\\\\\n",
       "\\end{tabular}\n"
      ],
      "text/markdown": [
       "\n",
       "A data.frame: 2 × 12\n",
       "\n",
       "| <!--/--> | fixed.acidity &lt;dbl&gt; | volatile.acidity &lt;dbl&gt; | citric.acid &lt;dbl&gt; | residual.sugar &lt;dbl&gt; | chlorides &lt;dbl&gt; | free.sulfur.dioxide &lt;dbl&gt; | total.sulfur.dioxide &lt;dbl&gt; | density &lt;dbl&gt; | pH &lt;dbl&gt; | sulphates &lt;dbl&gt; | alcohol &lt;dbl&gt; | quality &lt;int&gt; |\n",
       "|---|---|---|---|---|---|---|---|---|---|---|---|---|\n",
       "| 1 | 7.4 | 0.70 | 0 | 1.9 | 0.076 | 11 | 34 | 0.9978 | 3.51 | 0.56 | 9.4 | 5 |\n",
       "| 2 | 7.8 | 0.88 | 0 | 2.6 | 0.098 | 25 | 67 | 0.9968 | 3.20 | 0.68 | 9.8 | 5 |\n",
       "\n"
      ],
      "text/plain": [
       "  fixed.acidity volatile.acidity citric.acid residual.sugar chlorides\n",
       "1 7.4           0.70             0           1.9            0.076    \n",
       "2 7.8           0.88             0           2.6            0.098    \n",
       "  free.sulfur.dioxide total.sulfur.dioxide density pH   sulphates alcohol\n",
       "1 11                  34                   0.9978  3.51 0.56      9.4    \n",
       "2 25                  67                   0.9968  3.20 0.68      9.8    \n",
       "  quality\n",
       "1 5      \n",
       "2 5      "
      ]
     },
     "metadata": {},
     "output_type": "display_data"
    },
    {
     "data": {
      "text/html": [
       "<style>\n",
       ".list-inline {list-style: none; margin:0; padding: 0}\n",
       ".list-inline>li {display: inline-block}\n",
       ".list-inline>li:not(:last-child)::after {content: \"\\00b7\"; padding: 0 .5ex}\n",
       "</style>\n",
       "<ol class=list-inline><li>1599</li><li>12</li></ol>\n"
      ],
      "text/latex": [
       "\\begin{enumerate*}\n",
       "\\item 1599\n",
       "\\item 12\n",
       "\\end{enumerate*}\n"
      ],
      "text/markdown": [
       "1. 1599\n",
       "2. 12\n",
       "\n",
       "\n"
      ],
      "text/plain": [
       "[1] 1599   12"
      ]
     },
     "metadata": {},
     "output_type": "display_data"
    },
    {
     "data": {
      "text/html": [
       "<table>\n",
       "<caption>A data.frame: 2 × 12</caption>\n",
       "<thead>\n",
       "\t<tr><th></th><th scope=col>fixed.acidity</th><th scope=col>volatile.acidity</th><th scope=col>citric.acid</th><th scope=col>residual.sugar</th><th scope=col>chlorides</th><th scope=col>free.sulfur.dioxide</th><th scope=col>total.sulfur.dioxide</th><th scope=col>density</th><th scope=col>pH</th><th scope=col>sulphates</th><th scope=col>alcohol</th><th scope=col>quality</th></tr>\n",
       "\t<tr><th></th><th scope=col>&lt;dbl&gt;</th><th scope=col>&lt;dbl&gt;</th><th scope=col>&lt;dbl&gt;</th><th scope=col>&lt;dbl&gt;</th><th scope=col>&lt;dbl&gt;</th><th scope=col>&lt;dbl&gt;</th><th scope=col>&lt;dbl&gt;</th><th scope=col>&lt;dbl&gt;</th><th scope=col>&lt;dbl&gt;</th><th scope=col>&lt;dbl&gt;</th><th scope=col>&lt;dbl&gt;</th><th scope=col>&lt;int&gt;</th></tr>\n",
       "</thead>\n",
       "<tbody>\n",
       "\t<tr><th scope=row>1</th><td>7.0</td><td>0.27</td><td>0.36</td><td>20.7</td><td>0.045</td><td>45</td><td>170</td><td>1.001</td><td>3.0</td><td>0.45</td><td>8.8</td><td>6</td></tr>\n",
       "\t<tr><th scope=row>2</th><td>6.3</td><td>0.30</td><td>0.34</td><td> 1.6</td><td>0.049</td><td>14</td><td>132</td><td>0.994</td><td>3.3</td><td>0.49</td><td>9.5</td><td>6</td></tr>\n",
       "</tbody>\n",
       "</table>\n"
      ],
      "text/latex": [
       "A data.frame: 2 × 12\n",
       "\\begin{tabular}{r|llllllllllll}\n",
       "  & fixed.acidity & volatile.acidity & citric.acid & residual.sugar & chlorides & free.sulfur.dioxide & total.sulfur.dioxide & density & pH & sulphates & alcohol & quality\\\\\n",
       "  & <dbl> & <dbl> & <dbl> & <dbl> & <dbl> & <dbl> & <dbl> & <dbl> & <dbl> & <dbl> & <dbl> & <int>\\\\\n",
       "\\hline\n",
       "\t1 & 7.0 & 0.27 & 0.36 & 20.7 & 0.045 & 45 & 170 & 1.001 & 3.0 & 0.45 & 8.8 & 6\\\\\n",
       "\t2 & 6.3 & 0.30 & 0.34 &  1.6 & 0.049 & 14 & 132 & 0.994 & 3.3 & 0.49 & 9.5 & 6\\\\\n",
       "\\end{tabular}\n"
      ],
      "text/markdown": [
       "\n",
       "A data.frame: 2 × 12\n",
       "\n",
       "| <!--/--> | fixed.acidity &lt;dbl&gt; | volatile.acidity &lt;dbl&gt; | citric.acid &lt;dbl&gt; | residual.sugar &lt;dbl&gt; | chlorides &lt;dbl&gt; | free.sulfur.dioxide &lt;dbl&gt; | total.sulfur.dioxide &lt;dbl&gt; | density &lt;dbl&gt; | pH &lt;dbl&gt; | sulphates &lt;dbl&gt; | alcohol &lt;dbl&gt; | quality &lt;int&gt; |\n",
       "|---|---|---|---|---|---|---|---|---|---|---|---|---|\n",
       "| 1 | 7.0 | 0.27 | 0.36 | 20.7 | 0.045 | 45 | 170 | 1.001 | 3.0 | 0.45 | 8.8 | 6 |\n",
       "| 2 | 6.3 | 0.30 | 0.34 |  1.6 | 0.049 | 14 | 132 | 0.994 | 3.3 | 0.49 | 9.5 | 6 |\n",
       "\n"
      ],
      "text/plain": [
       "  fixed.acidity volatile.acidity citric.acid residual.sugar chlorides\n",
       "1 7.0           0.27             0.36        20.7           0.045    \n",
       "2 6.3           0.30             0.34         1.6           0.049    \n",
       "  free.sulfur.dioxide total.sulfur.dioxide density pH  sulphates alcohol\n",
       "1 45                  170                  1.001   3.0 0.45      8.8    \n",
       "2 14                  132                  0.994   3.3 0.49      9.5    \n",
       "  quality\n",
       "1 6      \n",
       "2 6      "
      ]
     },
     "metadata": {},
     "output_type": "display_data"
    },
    {
     "data": {
      "text/html": [
       "<style>\n",
       ".list-inline {list-style: none; margin:0; padding: 0}\n",
       ".list-inline>li {display: inline-block}\n",
       ".list-inline>li:not(:last-child)::after {content: \"\\00b7\"; padding: 0 .5ex}\n",
       "</style>\n",
       "<ol class=list-inline><li>4898</li><li>12</li></ol>\n"
      ],
      "text/latex": [
       "\\begin{enumerate*}\n",
       "\\item 4898\n",
       "\\item 12\n",
       "\\end{enumerate*}\n"
      ],
      "text/markdown": [
       "1. 4898\n",
       "2. 12\n",
       "\n",
       "\n"
      ],
      "text/plain": [
       "[1] 4898   12"
      ]
     },
     "metadata": {},
     "output_type": "display_data"
    }
   ],
   "source": [
    "# Reading in the 2 wine file, and check our dataframe using head() and dim() function:\n",
    "\n",
    "# Note that, if we think that there are better column name to use, we can always specify our own column name by adding a option:\n",
    "# col.names = c(\"col1\", \"col2\", \"col3\") inside the read.table().\n",
    "\n",
    "red_wine = read.table(\"winequality-red.csv\", sep=\";\" , header = TRUE)\n",
    "head(red_wine, 2)\n",
    "dim(red_wine)\n",
    "\n",
    "white_wine = read.table(\"winequality-white.csv\", sep=\";\" , header = TRUE)\n",
    "head(white_wine, 2)\n",
    "dim(white_wine)\n"
   ]
  },
  {
   "cell_type": "markdown",
   "metadata": {},
   "source": [
    "- As for now, we have 1599 observations of type red wine, and 4898 observations of type white wine"
   ]
  },
  {
   "cell_type": "markdown",
   "metadata": {},
   "source": [
    "### Dataset with outliers:"
   ]
  },
  {
   "cell_type": "code",
   "execution_count": 2,
   "metadata": {},
   "outputs": [],
   "source": [
    "red_wine2 = read.table(\"winequality-red.csv\", sep=\";\" , header = TRUE)\n",
    "white_wine2 = read.table(\"winequality-white.csv\", sep=\";\" , header = TRUE)\n",
    "red_wine2$type = \"red\"\n",
    "\n",
    "white_wine2$type = \"white\"\n",
    "\n",
    "with_outlier = rbind(red_wine2, white_wine2)\n",
    "\n",
    "with_outlier$type = ifelse(with_outlier$type == \"red\", 0, 1)\n",
    "\n",
    "with_outlier = subset(with_outlier, !duplicated(with_outlier))"
   ]
  },
  {
   "cell_type": "code",
   "execution_count": 3,
   "metadata": {
    "scrolled": true
   },
   "outputs": [],
   "source": [
    "with_outlier$Acidity_pH_interaction = with_outlier$fixed.acidity * with_outlier$pH\n",
    "with_outlier$resugar_alcohol_interaction = with_outlier$residual.sugar * with_outlier$alcohol"
   ]
  },
  {
   "cell_type": "code",
   "execution_count": 4,
   "metadata": {
    "scrolled": false
   },
   "outputs": [
    {
     "data": {
      "image/png": "[encoded data removed]",
      "text/plain": [
       "plot without title"
      ]
     },
     "metadata": {
      "image/png": {
       "height": 420,
       "width": 420
      },
      "text/plain": {
       "height": 420,
       "width": 420
      }
     },
     "output_type": "display_data"
    },
    {
     "data": {
      "image/png": "[encoded data removed]",
      "text/plain": [
       "plot without title"
      ]
     },
     "metadata": {
      "image/png": {
       "height": 420,
       "width": 420
      },
      "text/plain": {
       "height": 420,
       "width": 420
      }
     },
     "output_type": "display_data"
    },
    {
     "data": {
      "image/png": "[encoded data removed]",
      "text/plain": [
       "plot without title"
      ]
     },
     "metadata": {
      "image/png": {
       "height": 420,
       "width": 420
      },
      "text/plain": {
       "height": 420,
       "width": 420
      }
     },
     "output_type": "display_data"
    },
    {
     "data": {
      "image/png": "[encoded data removed]",
      "text/plain": [
       "plot without title"
      ]
     },
     "metadata": {
      "image/png": {
       "height": 420,
       "width": 420
      },
      "text/plain": {
       "height": 420,
       "width": 420
      }
     },
     "output_type": "display_data"
    }
   ],
   "source": [
    "# boxplot for each variables to get a sense of the outliers: (before removing outliers) (red_wine)\n",
    "\n",
    "# We want to set the plot grid size to avoid all the plot got squeeze together, and being to small:\n",
    "# Lets have it as 3 plots for every rows:\n",
    "par(mfrow = c(3, 1))  \n",
    "par(mfcol = c(1, 3))  \n",
    "\n",
    "invisible(lapply(1:ncol(red_wine), function(i) boxplot(red_wine[, i])))"
   ]
  },
  {
   "cell_type": "markdown",
   "metadata": {},
   "source": [
    "- Before we go ahead to remove any outliers, we want to look at the boxplot of each variables. \n",
    "\n",
    "- We can see that there are numbers of extreme value in our dataset, so it would be a good idea to remove those extreme value as have them can result in or regression line being pull to much toward them\n",
    "\n",
    "- Note that for our dependant variable, there are a few outliers with a quality level of 9 and 3, this means that our dataset include only a very little number of very high quality or very low quality wine, so it might be best to not include those."
   ]
  },
  {
   "cell_type": "code",
   "execution_count": 4,
   "metadata": {},
   "outputs": [
    {
     "data": {
      "text/html": [
       "<style>\n",
       ".list-inline {list-style: none; margin:0; padding: 0}\n",
       ".list-inline>li {display: inline-block}\n",
       ".list-inline>li:not(:last-child)::after {content: \"\\00b7\"; padding: 0 .5ex}\n",
       "</style>\n",
       "<ol class=list-inline><li>1124</li><li>12</li></ol>\n"
      ],
      "text/latex": [
       "\\begin{enumerate*}\n",
       "\\item 1124\n",
       "\\item 12\n",
       "\\end{enumerate*}\n"
      ],
      "text/markdown": [
       "1. 1124\n",
       "2. 12\n",
       "\n",
       "\n"
      ],
      "text/plain": [
       "[1] 1124   12"
      ]
     },
     "metadata": {},
     "output_type": "display_data"
    }
   ],
   "source": [
    "# Removing outliers for red wine dataset:\n",
    "\n",
    "# Here we run a for look to find the quantile number and calculate the iqr, so that we can get the upper and lower bound:\n",
    "for (col in names(red_wine)[1:12]) {\n",
    "  # Calculate the upper and lower bounds for outliers\n",
    "  q1 = quantile(red_wine[, col], 0.25)\n",
    "  q3 = quantile(red_wine[, col], 0.75)\n",
    "  iqr = q3 - q1\n",
    "  upper = q3 + 1.5 * iqr\n",
    "  lower = q1 - 1.5 * iqr\n",
    "  \n",
    "  # We then remove rows where the column value is outside the bounds\n",
    "  red_wine <- red_wine[! (red_wine[, col] < lower | red_wine[, col] > upper), ]\n",
    "}\n",
    "\n",
    "# checking the rows remaining now:\n",
    "dim(red_wine)"
   ]
  },
  {
   "cell_type": "markdown",
   "metadata": {},
   "source": [
    "- As mentioned above, I remove the outlier before I stack the two dataset, since there can be fundamental difference in the amount of material use in the 2 type of wine, so to avoid one of the wine type being the majority of outliers, we will remove outlier from the individual dataset first, then we can stack them."
   ]
  },
  {
   "cell_type": "code",
   "execution_count": 5,
   "metadata": {},
   "outputs": [
    {
     "data": {
      "image/png": "[encoded data removed]",
      "text/plain": [
       "plot without title"
      ]
     },
     "metadata": {
      "image/png": {
       "height": 420,
       "width": 420
      },
      "text/plain": {
       "height": 420,
       "width": 420
      }
     },
     "output_type": "display_data"
    },
    {
     "data": {
      "image/png": "[encoded data removed]",
      "text/plain": [
       "plot without title"
      ]
     },
     "metadata": {
      "image/png": {
       "height": 420,
       "width": 420
      },
      "text/plain": {
       "height": 420,
       "width": 420
      }
     },
     "output_type": "display_data"
    },
    {
     "data": {
      "image/png": "[encoded data removed]",
      "text/plain": [
       "plot without title"
      ]
     },
     "metadata": {
      "image/png": {
       "height": 420,
       "width": 420
      },
      "text/plain": {
       "height": 420,
       "width": 420
      }
     },
     "output_type": "display_data"
    },
    {
     "data": {
      "image/png": "[encoded data removed]",
      "text/plain": [
       "plot without title"
      ]
     },
     "metadata": {
      "image/png": {
       "height": 420,
       "width": 420
      },
      "text/plain": {
       "height": 420,
       "width": 420
      }
     },
     "output_type": "display_data"
    }
   ],
   "source": [
    "# boxplot for each variables beside the type column: (after removing outliers) (red_wine)\n",
    "\n",
    "# Lets have it as 3 plots for every rows:\n",
    "par(mfrow = c(3, 1))  \n",
    "par(mfcol = c(1, 3))  \n",
    "\n",
    "invisible(lapply(1:ncol(red_wine), function(i) boxplot(red_wine[, i])))"
   ]
  },
  {
   "cell_type": "markdown",
   "metadata": {},
   "source": [
    "- Here we look at the boxplot after the we remove the ourliers."
   ]
  },
  {
   "cell_type": "code",
   "execution_count": 5,
   "metadata": {
    "scrolled": true
   },
   "outputs": [
    {
     "data": {
      "text/html": [
       "<style>\n",
       ".list-inline {list-style: none; margin:0; padding: 0}\n",
       ".list-inline>li {display: inline-block}\n",
       ".list-inline>li:not(:last-child)::after {content: \"\\00b7\"; padding: 0 .5ex}\n",
       "</style>\n",
       "<ol class=list-inline><li>3815</li><li>12</li></ol>\n"
      ],
      "text/latex": [
       "\\begin{enumerate*}\n",
       "\\item 3815\n",
       "\\item 12\n",
       "\\end{enumerate*}\n"
      ],
      "text/markdown": [
       "1. 3815\n",
       "2. 12\n",
       "\n",
       "\n"
      ],
      "text/plain": [
       "[1] 3815   12"
      ]
     },
     "metadata": {},
     "output_type": "display_data"
    }
   ],
   "source": [
    "# We will do the same now for white wine dataset\n",
    "\n",
    "# If we want to look at the boxplot for white wine, we can do so by performing similar task from above, but we would probabilly observe very similar result\n",
    "\n",
    "# Here we run a for look to find the quantile number and calculate the iqr, so that we can get the upper and lower bound:\n",
    "for (col in names(white_wine)[1:12]) {\n",
    "  # Calculate the upper and lower bounds for outliers\n",
    "  q1 = quantile(white_wine[, col], 0.25)\n",
    "  q3 = quantile(white_wine[, col], 0.75)\n",
    "  iqr = q3 - q1\n",
    "  upper = q3 + 1.5 * iqr\n",
    "  lower = q1 - 1.5 * iqr\n",
    "  \n",
    "  # We then remove rows where the column value is outside the bounds\n",
    "  white_wine = white_wine[! (white_wine[, col] < lower | white_wine[, col] > upper), ]\n",
    "}\n",
    "\n",
    "# checking the rows remaining now:\n",
    "dim(white_wine)"
   ]
  },
  {
   "cell_type": "markdown",
   "metadata": {},
   "source": [
    "#### Before we want to stack the two dataset together, we want to make to we know which type of wine each observaion is:"
   ]
  },
  {
   "cell_type": "code",
   "execution_count": 6,
   "metadata": {},
   "outputs": [],
   "source": [
    "# Here, we have 2 different dataset, one for red wine and one for white wine.\n",
    "# So, before we merge them to form our dataset, we want to first add in a column identifying the type of the wine:\n",
    "\n",
    "# We have the new column name as \"type\":\n",
    "\n",
    "red_wine$type = \"red\"\n",
    "\n",
    "white_wine$type = \"white\""
   ]
  },
  {
   "cell_type": "code",
   "execution_count": 7,
   "metadata": {},
   "outputs": [
    {
     "data": {
      "text/html": [
       "<table>\n",
       "<caption>A data.frame: 2 × 13</caption>\n",
       "<thead>\n",
       "\t<tr><th></th><th scope=col>fixed.acidity</th><th scope=col>volatile.acidity</th><th scope=col>citric.acid</th><th scope=col>residual.sugar</th><th scope=col>chlorides</th><th scope=col>free.sulfur.dioxide</th><th scope=col>total.sulfur.dioxide</th><th scope=col>density</th><th scope=col>pH</th><th scope=col>sulphates</th><th scope=col>alcohol</th><th scope=col>quality</th><th scope=col>type</th></tr>\n",
       "\t<tr><th></th><th scope=col>&lt;dbl&gt;</th><th scope=col>&lt;dbl&gt;</th><th scope=col>&lt;dbl&gt;</th><th scope=col>&lt;dbl&gt;</th><th scope=col>&lt;dbl&gt;</th><th scope=col>&lt;dbl&gt;</th><th scope=col>&lt;dbl&gt;</th><th scope=col>&lt;dbl&gt;</th><th scope=col>&lt;dbl&gt;</th><th scope=col>&lt;dbl&gt;</th><th scope=col>&lt;dbl&gt;</th><th scope=col>&lt;int&gt;</th><th scope=col>&lt;chr&gt;</th></tr>\n",
       "</thead>\n",
       "<tbody>\n",
       "\t<tr><th scope=row>1</th><td>7.4</td><td>0.70</td><td>0</td><td>1.9</td><td>0.076</td><td>11</td><td>34</td><td>0.9978</td><td>3.51</td><td>0.56</td><td>9.4</td><td>5</td><td>red</td></tr>\n",
       "\t<tr><th scope=row>2</th><td>7.8</td><td>0.88</td><td>0</td><td>2.6</td><td>0.098</td><td>25</td><td>67</td><td>0.9968</td><td>3.20</td><td>0.68</td><td>9.8</td><td>5</td><td>red</td></tr>\n",
       "</tbody>\n",
       "</table>\n"
      ],
      "text/latex": [
       "A data.frame: 2 × 13\n",
       "\\begin{tabular}{r|lllllllllllll}\n",
       "  & fixed.acidity & volatile.acidity & citric.acid & residual.sugar & chlorides & free.sulfur.dioxide & total.sulfur.dioxide & density & pH & sulphates & alcohol & quality & type\\\\\n",
       "  & <dbl> & <dbl> & <dbl> & <dbl> & <dbl> & <dbl> & <dbl> & <dbl> & <dbl> & <dbl> & <dbl> & <int> & <chr>\\\\\n",
       "\\hline\n",
       "\t1 & 7.4 & 0.70 & 0 & 1.9 & 0.076 & 11 & 34 & 0.9978 & 3.51 & 0.56 & 9.4 & 5 & red\\\\\n",
       "\t2 & 7.8 & 0.88 & 0 & 2.6 & 0.098 & 25 & 67 & 0.9968 & 3.20 & 0.68 & 9.8 & 5 & red\\\\\n",
       "\\end{tabular}\n"
      ],
      "text/markdown": [
       "\n",
       "A data.frame: 2 × 13\n",
       "\n",
       "| <!--/--> | fixed.acidity &lt;dbl&gt; | volatile.acidity &lt;dbl&gt; | citric.acid &lt;dbl&gt; | residual.sugar &lt;dbl&gt; | chlorides &lt;dbl&gt; | free.sulfur.dioxide &lt;dbl&gt; | total.sulfur.dioxide &lt;dbl&gt; | density &lt;dbl&gt; | pH &lt;dbl&gt; | sulphates &lt;dbl&gt; | alcohol &lt;dbl&gt; | quality &lt;int&gt; | type &lt;chr&gt; |\n",
       "|---|---|---|---|---|---|---|---|---|---|---|---|---|---|\n",
       "| 1 | 7.4 | 0.70 | 0 | 1.9 | 0.076 | 11 | 34 | 0.9978 | 3.51 | 0.56 | 9.4 | 5 | red |\n",
       "| 2 | 7.8 | 0.88 | 0 | 2.6 | 0.098 | 25 | 67 | 0.9968 | 3.20 | 0.68 | 9.8 | 5 | red |\n",
       "\n"
      ],
      "text/plain": [
       "  fixed.acidity volatile.acidity citric.acid residual.sugar chlorides\n",
       "1 7.4           0.70             0           1.9            0.076    \n",
       "2 7.8           0.88             0           2.6            0.098    \n",
       "  free.sulfur.dioxide total.sulfur.dioxide density pH   sulphates alcohol\n",
       "1 11                  34                   0.9978  3.51 0.56      9.4    \n",
       "2 25                  67                   0.9968  3.20 0.68      9.8    \n",
       "  quality type\n",
       "1 5       red \n",
       "2 5       red "
      ]
     },
     "metadata": {},
     "output_type": "display_data"
    }
   ],
   "source": [
    "# Checking the newly added column:\n",
    "head(red_wine, 2)"
   ]
  },
  {
   "cell_type": "code",
   "execution_count": 8,
   "metadata": {},
   "outputs": [],
   "source": [
    "# Now we can stack the data together:\n",
    "\n",
    "total_wine_data = rbind(red_wine, white_wine)"
   ]
  },
  {
   "cell_type": "code",
   "execution_count": 50,
   "metadata": {
    "scrolled": false
   },
   "outputs": [
    {
     "data": {
      "text/html": [
       "<style>\n",
       ".list-inline {list-style: none; margin:0; padding: 0}\n",
       ".list-inline>li {display: inline-block}\n",
       ".list-inline>li:not(:last-child)::after {content: \"\\00b7\"; padding: 0 .5ex}\n",
       "</style>\n",
       "<ol class=list-inline><li>1124</li><li>13</li></ol>\n"
      ],
      "text/latex": [
       "\\begin{enumerate*}\n",
       "\\item 1124\n",
       "\\item 13\n",
       "\\end{enumerate*}\n"
      ],
      "text/markdown": [
       "1. 1124\n",
       "2. 13\n",
       "\n",
       "\n"
      ],
      "text/plain": [
       "[1] 1124   13"
      ]
     },
     "metadata": {},
     "output_type": "display_data"
    },
    {
     "data": {
      "text/html": [
       "<style>\n",
       ".list-inline {list-style: none; margin:0; padding: 0}\n",
       ".list-inline>li {display: inline-block}\n",
       ".list-inline>li:not(:last-child)::after {content: \"\\00b7\"; padding: 0 .5ex}\n",
       "</style>\n",
       "<ol class=list-inline><li>3815</li><li>13</li></ol>\n"
      ],
      "text/latex": [
       "\\begin{enumerate*}\n",
       "\\item 3815\n",
       "\\item 13\n",
       "\\end{enumerate*}\n"
      ],
      "text/markdown": [
       "1. 3815\n",
       "2. 13\n",
       "\n",
       "\n"
      ],
      "text/plain": [
       "[1] 3815   13"
      ]
     },
     "metadata": {},
     "output_type": "display_data"
    },
    {
     "data": {
      "text/html": [
       "<style>\n",
       ".list-inline {list-style: none; margin:0; padding: 0}\n",
       ".list-inline>li {display: inline-block}\n",
       ".list-inline>li:not(:last-child)::after {content: \"\\00b7\"; padding: 0 .5ex}\n",
       "</style>\n",
       "<ol class=list-inline><li>4939</li><li>13</li></ol>\n"
      ],
      "text/latex": [
       "\\begin{enumerate*}\n",
       "\\item 4939\n",
       "\\item 13\n",
       "\\end{enumerate*}\n"
      ],
      "text/markdown": [
       "1. 4939\n",
       "2. 13\n",
       "\n",
       "\n"
      ],
      "text/plain": [
       "[1] 4939   13"
      ]
     },
     "metadata": {},
     "output_type": "display_data"
    }
   ],
   "source": [
    "# Checking if we get the right number of rows and column:\n",
    "dim(red_wine)\n",
    "dim(white_wine)\n",
    "dim(total_wine_data)"
   ]
  },
  {
   "cell_type": "markdown",
   "metadata": {},
   "source": [
    "- The dataset we got at the end has 4939 observations in total, of which 1124 observations are type red, and 3815 observations are type white."
   ]
  },
  {
   "cell_type": "markdown",
   "metadata": {},
   "source": [
    "#### Moving on, we would now start to look for any missing values, duplicate obseravtion, and try to turn any text into numeric variables."
   ]
  },
  {
   "cell_type": "code",
   "execution_count": 9,
   "metadata": {},
   "outputs": [],
   "source": [
    "# Changing the type column from catagorical to numeric:\n",
    "total_wine_data$type = ifelse(total_wine_data$type == \"red\", 0, 1)"
   ]
  },
  {
   "cell_type": "markdown",
   "metadata": {},
   "source": [
    "- Here, we change the type column we add in to numeric value of 0 and 1, where 0 represent the type red, and 1 being the type white."
   ]
  },
  {
   "cell_type": "code",
   "execution_count": 10,
   "metadata": {
    "scrolled": true
   },
   "outputs": [
    {
     "data": {
      "text/html": [
       "<style>\n",
       ".list-inline {list-style: none; margin:0; padding: 0}\n",
       ".list-inline>li {display: inline-block}\n",
       ".list-inline>li:not(:last-child)::after {content: \"\\00b7\"; padding: 0 .5ex}\n",
       "</style>\n",
       "<ol class=list-inline><li>4939</li><li>13</li></ol>\n"
      ],
      "text/latex": [
       "\\begin{enumerate*}\n",
       "\\item 4939\n",
       "\\item 13\n",
       "\\end{enumerate*}\n"
      ],
      "text/markdown": [
       "1. 4939\n",
       "2. 13\n",
       "\n",
       "\n"
      ],
      "text/plain": [
       "[1] 4939   13"
      ]
     },
     "metadata": {},
     "output_type": "display_data"
    }
   ],
   "source": [
    "# Remove missing value rows:\n",
    "total_wine_data = na.omit(total_wine_data)\n",
    "dim(total_wine_data)\n",
    "\n",
    "# seems like there are no missing values"
   ]
  },
  {
   "cell_type": "markdown",
   "metadata": {},
   "source": [
    "- Here, we want to remove any rows that contains missing value, but it turns out that there aren't any missing value in our dataset."
   ]
  },
  {
   "cell_type": "code",
   "execution_count": 11,
   "metadata": {},
   "outputs": [
    {
     "data": {
      "text/html": [
       "<style>\n",
       ".list-inline {list-style: none; margin:0; padding: 0}\n",
       ".list-inline>li {display: inline-block}\n",
       ".list-inline>li:not(:last-child)::after {content: \"\\00b7\"; padding: 0 .5ex}\n",
       "</style>\n",
       "<ol class=list-inline><li>4015</li><li>13</li></ol>\n"
      ],
      "text/latex": [
       "\\begin{enumerate*}\n",
       "\\item 4015\n",
       "\\item 13\n",
       "\\end{enumerate*}\n"
      ],
      "text/markdown": [
       "1. 4015\n",
       "2. 13\n",
       "\n",
       "\n"
      ],
      "text/plain": [
       "[1] 4015   13"
      ]
     },
     "metadata": {},
     "output_type": "display_data"
    }
   ],
   "source": [
    "# remove duplicate rows:\n",
    "total_wine_data = subset(total_wine_data, !duplicated(total_wine_data))\n",
    "dim(total_wine_data)"
   ]
  },
  {
   "cell_type": "markdown",
   "metadata": {},
   "source": [
    "- Here, we want to remove any duplicate rows, these row may be due to the fact that 2 almost indentical wine are being tested and measured, or it could just simply be input error."
   ]
  },
  {
   "cell_type": "markdown",
   "metadata": {},
   "source": [
    "#### Now we want to add some interaction term to our dataset:\n",
    "\n",
    "As adding interaction terms can help us in capturing more complex relationships between variables that may not be fully explained by their individual effects, we want to try to identify any use interaction between interaction between variables. \n",
    "\n",
    "Fixed acidity * pH: This interaction term could be useful that capture the relationship between acidity and pH. Wines with high fixed acidity and low pH might be perceived as sour or acidic, while wines with low fixed acidity and high pH might be perceived as flat or dull. \n",
    "\n",
    "Residual sugar * alcohol: This interaction term could could be useful that capture the relationship between sweetness and alcohol content.Wines with high residual sugar and low alcohol might be perceived as sweet but lack some taste of being a true wine(?), while wines with high residual sugar and high alcohol might be perceived as rich.\n",
    "\n",
    "Both of the interaction term might be effecting the resulting quality of the wine, base on what each term is giving the tester a different tast feeling.\n",
    "\n"
   ]
  },
  {
   "cell_type": "code",
   "execution_count": 12,
   "metadata": {},
   "outputs": [],
   "source": [
    "# Adding the interaction term column:\n",
    "\n",
    "total_wine_data$Acidity_pH_interaction = total_wine_data$fixed.acidity * total_wine_data$pH\n",
    "total_wine_data$resugar_alcohol_interaction = total_wine_data$residual.sugar * total_wine_data$alcohol"
   ]
  },
  {
   "cell_type": "code",
   "execution_count": 12,
   "metadata": {
    "scrolled": true
   },
   "outputs": [
    {
     "data": {
      "text/html": [
       "<table>\n",
       "<caption>A data.frame: 6 × 15</caption>\n",
       "<thead>\n",
       "\t<tr><th></th><th scope=col>fixed.acidity</th><th scope=col>volatile.acidity</th><th scope=col>citric.acid</th><th scope=col>residual.sugar</th><th scope=col>chlorides</th><th scope=col>free.sulfur.dioxide</th><th scope=col>total.sulfur.dioxide</th><th scope=col>density</th><th scope=col>pH</th><th scope=col>sulphates</th><th scope=col>alcohol</th><th scope=col>quality</th><th scope=col>type</th><th scope=col>Acidity_pH_interaction</th><th scope=col>resugar_alcohol_interaction</th></tr>\n",
       "\t<tr><th></th><th scope=col>&lt;dbl&gt;</th><th scope=col>&lt;dbl&gt;</th><th scope=col>&lt;dbl&gt;</th><th scope=col>&lt;dbl&gt;</th><th scope=col>&lt;dbl&gt;</th><th scope=col>&lt;dbl&gt;</th><th scope=col>&lt;dbl&gt;</th><th scope=col>&lt;dbl&gt;</th><th scope=col>&lt;dbl&gt;</th><th scope=col>&lt;dbl&gt;</th><th scope=col>&lt;dbl&gt;</th><th scope=col>&lt;int&gt;</th><th scope=col>&lt;dbl&gt;</th><th scope=col>&lt;dbl&gt;</th><th scope=col>&lt;dbl&gt;</th></tr>\n",
       "</thead>\n",
       "<tbody>\n",
       "\t<tr><th scope=row>1</th><td> 7.4</td><td>0.70</td><td>0.00</td><td>1.9</td><td>0.076</td><td>11</td><td>34</td><td>0.9978</td><td>3.51</td><td>0.56</td><td>9.4</td><td>5</td><td>0</td><td>25.974</td><td>17.86</td></tr>\n",
       "\t<tr><th scope=row>2</th><td> 7.8</td><td>0.88</td><td>0.00</td><td>2.6</td><td>0.098</td><td>25</td><td>67</td><td>0.9968</td><td>3.20</td><td>0.68</td><td>9.8</td><td>5</td><td>0</td><td>24.960</td><td>25.48</td></tr>\n",
       "\t<tr><th scope=row>3</th><td> 7.8</td><td>0.76</td><td>0.04</td><td>2.3</td><td>0.092</td><td>15</td><td>54</td><td>0.9970</td><td>3.26</td><td>0.65</td><td>9.8</td><td>5</td><td>0</td><td>25.428</td><td>22.54</td></tr>\n",
       "\t<tr><th scope=row>4</th><td>11.2</td><td>0.28</td><td>0.56</td><td>1.9</td><td>0.075</td><td>17</td><td>60</td><td>0.9980</td><td>3.16</td><td>0.58</td><td>9.8</td><td>6</td><td>0</td><td>35.392</td><td>18.62</td></tr>\n",
       "\t<tr><th scope=row>6</th><td> 7.4</td><td>0.66</td><td>0.00</td><td>1.8</td><td>0.075</td><td>13</td><td>40</td><td>0.9978</td><td>3.51</td><td>0.56</td><td>9.4</td><td>5</td><td>0</td><td>25.974</td><td>16.92</td></tr>\n",
       "\t<tr><th scope=row>7</th><td> 7.9</td><td>0.60</td><td>0.06</td><td>1.6</td><td>0.069</td><td>15</td><td>59</td><td>0.9964</td><td>3.30</td><td>0.46</td><td>9.4</td><td>5</td><td>0</td><td>26.070</td><td>15.04</td></tr>\n",
       "</tbody>\n",
       "</table>\n"
      ],
      "text/latex": [
       "A data.frame: 6 × 15\n",
       "\\begin{tabular}{r|lllllllllllllll}\n",
       "  & fixed.acidity & volatile.acidity & citric.acid & residual.sugar & chlorides & free.sulfur.dioxide & total.sulfur.dioxide & density & pH & sulphates & alcohol & quality & type & Acidity\\_pH\\_interaction & resugar\\_alcohol\\_interaction\\\\\n",
       "  & <dbl> & <dbl> & <dbl> & <dbl> & <dbl> & <dbl> & <dbl> & <dbl> & <dbl> & <dbl> & <dbl> & <int> & <dbl> & <dbl> & <dbl>\\\\\n",
       "\\hline\n",
       "\t1 &  7.4 & 0.70 & 0.00 & 1.9 & 0.076 & 11 & 34 & 0.9978 & 3.51 & 0.56 & 9.4 & 5 & 0 & 25.974 & 17.86\\\\\n",
       "\t2 &  7.8 & 0.88 & 0.00 & 2.6 & 0.098 & 25 & 67 & 0.9968 & 3.20 & 0.68 & 9.8 & 5 & 0 & 24.960 & 25.48\\\\\n",
       "\t3 &  7.8 & 0.76 & 0.04 & 2.3 & 0.092 & 15 & 54 & 0.9970 & 3.26 & 0.65 & 9.8 & 5 & 0 & 25.428 & 22.54\\\\\n",
       "\t4 & 11.2 & 0.28 & 0.56 & 1.9 & 0.075 & 17 & 60 & 0.9980 & 3.16 & 0.58 & 9.8 & 6 & 0 & 35.392 & 18.62\\\\\n",
       "\t6 &  7.4 & 0.66 & 0.00 & 1.8 & 0.075 & 13 & 40 & 0.9978 & 3.51 & 0.56 & 9.4 & 5 & 0 & 25.974 & 16.92\\\\\n",
       "\t7 &  7.9 & 0.60 & 0.06 & 1.6 & 0.069 & 15 & 59 & 0.9964 & 3.30 & 0.46 & 9.4 & 5 & 0 & 26.070 & 15.04\\\\\n",
       "\\end{tabular}\n"
      ],
      "text/markdown": [
       "\n",
       "A data.frame: 6 × 15\n",
       "\n",
       "| <!--/--> | fixed.acidity &lt;dbl&gt; | volatile.acidity &lt;dbl&gt; | citric.acid &lt;dbl&gt; | residual.sugar &lt;dbl&gt; | chlorides &lt;dbl&gt; | free.sulfur.dioxide &lt;dbl&gt; | total.sulfur.dioxide &lt;dbl&gt; | density &lt;dbl&gt; | pH &lt;dbl&gt; | sulphates &lt;dbl&gt; | alcohol &lt;dbl&gt; | quality &lt;int&gt; | type &lt;dbl&gt; | Acidity_pH_interaction &lt;dbl&gt; | resugar_alcohol_interaction &lt;dbl&gt; |\n",
       "|---|---|---|---|---|---|---|---|---|---|---|---|---|---|---|---|\n",
       "| 1 |  7.4 | 0.70 | 0.00 | 1.9 | 0.076 | 11 | 34 | 0.9978 | 3.51 | 0.56 | 9.4 | 5 | 0 | 25.974 | 17.86 |\n",
       "| 2 |  7.8 | 0.88 | 0.00 | 2.6 | 0.098 | 25 | 67 | 0.9968 | 3.20 | 0.68 | 9.8 | 5 | 0 | 24.960 | 25.48 |\n",
       "| 3 |  7.8 | 0.76 | 0.04 | 2.3 | 0.092 | 15 | 54 | 0.9970 | 3.26 | 0.65 | 9.8 | 5 | 0 | 25.428 | 22.54 |\n",
       "| 4 | 11.2 | 0.28 | 0.56 | 1.9 | 0.075 | 17 | 60 | 0.9980 | 3.16 | 0.58 | 9.8 | 6 | 0 | 35.392 | 18.62 |\n",
       "| 6 |  7.4 | 0.66 | 0.00 | 1.8 | 0.075 | 13 | 40 | 0.9978 | 3.51 | 0.56 | 9.4 | 5 | 0 | 25.974 | 16.92 |\n",
       "| 7 |  7.9 | 0.60 | 0.06 | 1.6 | 0.069 | 15 | 59 | 0.9964 | 3.30 | 0.46 | 9.4 | 5 | 0 | 26.070 | 15.04 |\n",
       "\n"
      ],
      "text/plain": [
       "  fixed.acidity volatile.acidity citric.acid residual.sugar chlorides\n",
       "1  7.4          0.70             0.00        1.9            0.076    \n",
       "2  7.8          0.88             0.00        2.6            0.098    \n",
       "3  7.8          0.76             0.04        2.3            0.092    \n",
       "4 11.2          0.28             0.56        1.9            0.075    \n",
       "6  7.4          0.66             0.00        1.8            0.075    \n",
       "7  7.9          0.60             0.06        1.6            0.069    \n",
       "  free.sulfur.dioxide total.sulfur.dioxide density pH   sulphates alcohol\n",
       "1 11                  34                   0.9978  3.51 0.56      9.4    \n",
       "2 25                  67                   0.9968  3.20 0.68      9.8    \n",
       "3 15                  54                   0.9970  3.26 0.65      9.8    \n",
       "4 17                  60                   0.9980  3.16 0.58      9.8    \n",
       "6 13                  40                   0.9978  3.51 0.56      9.4    \n",
       "7 15                  59                   0.9964  3.30 0.46      9.4    \n",
       "  quality type Acidity_pH_interaction resugar_alcohol_interaction\n",
       "1 5       0    25.974                 17.86                      \n",
       "2 5       0    24.960                 25.48                      \n",
       "3 5       0    25.428                 22.54                      \n",
       "4 6       0    35.392                 18.62                      \n",
       "6 5       0    25.974                 16.92                      \n",
       "7 5       0    26.070                 15.04                      "
      ]
     },
     "metadata": {},
     "output_type": "display_data"
    }
   ],
   "source": [
    "# Checking the final total_wine_data:\n",
    "head(total_wine_data)"
   ]
  },
  {
   "cell_type": "markdown",
   "metadata": {},
   "source": [
    "####  Note: Run the entire notebook and the *total_wine_data* will be the final cleaned dataset for us to do the analysis"
   ]
  },
  {
   "cell_type": "markdown",
   "metadata": {},
   "source": [
    "## preliminary analyses"
   ]
  },
  {
   "cell_type": "code",
   "execution_count": 17,
   "metadata": {
    "scrolled": true
   },
   "outputs": [
    {
     "data": {
      "text/html": [
       "<style>\n",
       ".list-inline {list-style: none; margin:0; padding: 0}\n",
       ".list-inline>li {display: inline-block}\n",
       ".list-inline>li:not(:last-child)::after {content: \"\\00b7\"; padding: 0 .5ex}\n",
       "</style>\n",
       "<ol class=list-inline><li>4015</li><li>15</li></ol>\n"
      ],
      "text/latex": [
       "\\begin{enumerate*}\n",
       "\\item 4015\n",
       "\\item 15\n",
       "\\end{enumerate*}\n"
      ],
      "text/markdown": [
       "1. 4015\n",
       "2. 15\n",
       "\n",
       "\n"
      ],
      "text/plain": [
       "[1] 4015   15"
      ]
     },
     "metadata": {},
     "output_type": "display_data"
    }
   ],
   "source": [
    "dim(total_wine_data)"
   ]
  },
  {
   "cell_type": "markdown",
   "metadata": {},
   "source": [
    "After removing the outliers and missing values, the dataset's dimensions are 4015 x 15, where 4015= observations, and 15 represents the amount of variables. \n",
    "\n",
    "The dataset contains 14 predictors, and our dependent variable is “quality”, which spans from 4-7, after the removal of outliers. \n",
    "\n"
   ]
  },
  {
   "cell_type": "code",
   "execution_count": 18,
   "metadata": {},
   "outputs": [
    {
     "data": {
      "text/plain": [
       " fixed.acidity    volatile.acidity  citric.acid     residual.sugar  \n",
       " Min.   : 4.800   Min.   :0.0800   Min.   :0.0000   Min.   : 0.600  \n",
       " 1st Qu.: 6.400   1st Qu.:0.2200   1st Qu.:0.2500   1st Qu.: 1.800  \n",
       " Median : 6.900   Median :0.2800   Median :0.3100   Median : 2.700  \n",
       " Mean   : 7.116   Mean   :0.3249   Mean   :0.3053   Mean   : 5.012  \n",
       " 3rd Qu.: 7.600   3rd Qu.:0.3800   3rd Qu.:0.3800   3rd Qu.: 7.600  \n",
       " Max.   :12.300   Max.   :1.0050   Max.   :0.7300   Max.   :20.800  \n",
       "   chlorides       free.sulfur.dioxide total.sulfur.dioxide    density      \n",
       " Min.   :0.01500   Min.   : 1.00       Min.   :  6.0        Min.   :0.9871  \n",
       " 1st Qu.:0.03700   1st Qu.:17.00       1st Qu.: 75.0        1st Qu.:0.9920  \n",
       " Median :0.04600   Median :28.00       Median :115.0        Median :0.9944  \n",
       " Mean   :0.05069   Mean   :29.72       Mean   :113.6        Mean   :0.9943  \n",
       " 3rd Qu.:0.05900   3rd Qu.:41.00       3rd Qu.:152.0        3rd Qu.:0.9965  \n",
       " Max.   :0.11600   Max.   :79.00       Max.   :253.0        Max.   :1.0020  \n",
       "       pH          sulphates         alcohol         quality     \n",
       " Min.   :2.820   Min.   :0.2200   Min.   : 8.40   Min.   :4.000  \n",
       " 1st Qu.:3.120   1st Qu.:0.4300   1st Qu.: 9.60   1st Qu.:5.000  \n",
       " Median :3.220   Median :0.5000   Median :10.40   Median :6.000  \n",
       " Mean   :3.225   Mean   :0.5164   Mean   :10.57   Mean   :5.807  \n",
       " 3rd Qu.:3.330   3rd Qu.:0.5900   3rd Qu.:11.40   3rd Qu.:6.000  \n",
       " Max.   :3.680   Max.   :0.9400   Max.   :14.20   Max.   :7.000  \n",
       "      type        Acidity_pH_interaction resugar_alcohol_interaction\n",
       " Min.   :0.0000   Min.   :15.04          Min.   :  6.36             \n",
       " 1st Qu.:1.0000   1st Qu.:20.54          1st Qu.: 18.50             \n",
       " Median :1.0000   Median :22.31          Median : 29.21             \n",
       " Mean   :0.7636   Mean   :22.92          Mean   : 51.28             \n",
       " 3rd Qu.:1.0000   3rd Qu.:24.55          3rd Qu.: 75.67             \n",
       " Max.   :1.0000   Max.   :39.36          Max.   :249.69             "
      ]
     },
     "metadata": {},
     "output_type": "display_data"
    }
   ],
   "source": [
    "summary(total_wine_data)"
   ]
  },
  {
   "cell_type": "markdown",
   "metadata": {},
   "source": [
    "#### The summary statistics for each variable provides the distribution type, including mean, range, interquartile range (3rd Qu - 1st Qu), minimum value and maximum value. \n",
    "\n",
    "#### For the variable ```quality```: this variable is described as a discrete variable, since it takes numbers that are whole numbers, and nothing in between. \n",
    "\n",
    "#### It's worth noting that the variable ```density``` only ranged from 0.98 to 1.\n",
    "\n"
   ]
  },
  {
   "cell_type": "markdown",
   "metadata": {},
   "source": [
    "#### Our dataset is a cross sectional data since our observations are taken at a single point in time. The dataset focuses on specific variants of Portuguese wine."
   ]
  },
  {
   "cell_type": "code",
   "execution_count": 19,
   "metadata": {},
   "outputs": [
    {
     "data": {
      "text/html": [
       "4"
      ],
      "text/latex": [
       "4"
      ],
      "text/markdown": [
       "4"
      ],
      "text/plain": [
       "[1] 4"
      ]
     },
     "metadata": {},
     "output_type": "display_data"
    },
    {
     "data": {
      "text/html": [
       "7"
      ],
      "text/latex": [
       "7"
      ],
      "text/markdown": [
       "7"
      ],
      "text/plain": [
       "[1] 7"
      ]
     },
     "metadata": {},
     "output_type": "display_data"
    }
   ],
   "source": [
    "min(total_wine_data$quality)\n",
    "max(total_wine_data$quality)"
   ]
  },
  {
   "cell_type": "code",
   "execution_count": 4,
   "metadata": {
    "scrolled": false
   },
   "outputs": [
    {
     "ename": "ERROR",
     "evalue": "Error in table(total_wine_data$quality): object 'total_wine_data' not found\n",
     "output_type": "error",
     "traceback": [
      "Error in table(total_wine_data$quality): object 'total_wine_data' not found\nTraceback:\n",
      "1. table(total_wine_data$quality)"
     ]
    }
   ],
   "source": [
    "table(total_wine_data$quality)\n",
    "table(total_wine_data$type)"
   ]
  },
  {
   "cell_type": "markdown",
   "metadata": {},
   "source": [
    "#### It is important to note that before the removal of outliers, the variable ```quality``` ranged from 0 to 9. And after the romoval of outliers, it now ranges from 4 to 7.\n",
    "\n",
    "#### Variable ```type``` is a binary variable. Which helps identify what type of wine it is. In out setting, ```0``` stands for red wine, and ```1``` stands for white wine."
   ]
  },
  {
   "cell_type": "code",
   "execution_count": 21,
   "metadata": {
    "scrolled": false
   },
   "outputs": [
    {
     "data": {
      "text/html": [
       "<table>\n",
       "<caption>A matrix: 15 × 15 of type dbl</caption>\n",
       "<thead>\n",
       "\t<tr><th></th><th scope=col>fixed.acidity</th><th scope=col>volatile.acidity</th><th scope=col>citric.acid</th><th scope=col>residual.sugar</th><th scope=col>chlorides</th><th scope=col>free.sulfur.dioxide</th><th scope=col>total.sulfur.dioxide</th><th scope=col>density</th><th scope=col>pH</th><th scope=col>sulphates</th><th scope=col>alcohol</th><th scope=col>quality</th><th scope=col>type</th><th scope=col>Acidity_pH_interaction</th><th scope=col>resugar_alcohol_interaction</th></tr>\n",
       "</thead>\n",
       "<tbody>\n",
       "\t<tr><th scope=row>fixed.acidity</th><td>  1.25477159</td><td> 0.0451576108</td><td> 3.433486e-02</td><td> -0.708618498</td><td> 1.006027e-02</td><td> -5.472488522</td><td> -22.19475565</td><td> 1.374180e-03</td><td>-2.968843e-02</td><td> 4.072402e-02</td><td>-1.198828e-01</td><td>-0.0591106532</td><td>-0.2425497124</td><td>  3.822817775</td><td>  -7.31659148</td></tr>\n",
       "\t<tr><th scope=row>volatile.acidity</th><td>  0.04515761</td><td> 0.0229276338</td><td>-8.774485e-03</td><td> -0.141242021</td><td> 1.763195e-03</td><td> -0.966882016</td><td>  -3.98405565</td><td> 1.424072e-04</td><td> 6.705726e-03</td><td> 5.241870e-03</td><td>-1.583496e-02</td><td>-0.0272067304</td><td>-0.0465688499</td><td>  0.193989604</td><td>  -1.40496027</td></tr>\n",
       "\t<tr><th scope=row>citric.acid</th><td>  0.03433486</td><td>-0.0087744855</td><td> 1.416852e-02</td><td>  0.061041651</td><td>-4.544868e-04</td><td>  0.320630801</td><td>   1.55755338</td><td>-8.905137e-06</td><td>-5.465015e-03</td><td>-3.958139e-04</td><td> 9.408049e-03</td><td> 0.0119589302</td><td> 0.0140595643</td><td>  0.071225114</td><td>   0.59829659</td></tr>\n",
       "\t<tr><th scope=row>residual.sugar</th><td> -0.70861850</td><td>-0.1412420210</td><td> 6.104165e-02</td><td> 19.259238786</td><td>-1.498173e-02</td><td> 33.029668242</td><td> 126.66992036</td><td> 6.288315e-03</td><td>-1.626282e-01</td><td>-1.092387e-01</td><td>-1.678584e+00</td><td>-0.2226182583</td><td> 0.6671429542</td><td> -3.390311802</td><td> 184.05919868</td></tr>\n",
       "\t<tr><th scope=row>chlorides</th><td>  0.01006027</td><td> 0.0017631951</td><td>-4.544868e-04</td><td> -0.014981735</td><td> 3.564515e-04</td><td> -0.106683700</td><td>  -0.48507780</td><td> 3.113826e-05</td><td> 7.944128e-04</td><td> 9.648894e-04</td><td>-7.443842e-03</td><td>-0.0038008047</td><td>-0.0065324863</td><td>  0.038287444</td><td>  -0.17939290</td></tr>\n",
       "\t<tr><th scope=row>free.sulfur.dioxide</th><td> -5.47248852</td><td>-0.9668820158</td><td> 3.206308e-01</td><td> 33.029668242</td><td>-1.066837e-01</td><td>261.067706986</td><td> 667.98399267</td><td> 1.017278e-03</td><td>-4.817391e-01</td><td>-4.525325e-01</td><td>-2.851137e+00</td><td> 0.9429262525</td><td> 3.5316619106</td><td>-20.901426451</td><td> 308.05249043</td></tr>\n",
       "\t<tr><th scope=row>total.sulfur.dioxide</th><td>-22.19475565</td><td>-3.9840556545</td><td> 1.557553e+00</td><td>126.669920364</td><td>-4.850778e-01</td><td>667.983992669</td><td>3088.21617558</td><td> 1.267910e-03</td><td>-2.127056e+00</td><td>-2.073087e+00</td><td>-1.449701e+01</td><td>-0.8866085140</td><td>17.1096661684</td><td>-86.214036160</td><td>1173.76033039</td></tr>\n",
       "\t<tr><th scope=row>density</th><td>  0.00137418</td><td> 0.0001424072</td><td>-8.905137e-06</td><td>  0.006288315</td><td> 3.113826e-05</td><td>  0.001017278</td><td>   0.00126791</td><td> 7.902376e-06</td><td> 5.114789e-05</td><td> 9.750373e-05</td><td>-2.324518e-03</td><td>-0.0007187257</td><td>-0.0005237732</td><td>  0.004826115</td><td>   0.05243435</td></tr>\n",
       "\t<tr><th scope=row>pH</th><td> -0.02968843</td><td> 0.0067057259</td><td>-5.465015e-03</td><td> -0.162628182</td><td> 7.944128e-04</td><td> -0.481739080</td><td>  -2.12705624</td><td> 5.114789e-05</td><td> 2.150306e-02</td><td> 4.567260e-03</td><td> 7.832336e-04</td><td> 0.0004278736</td><td>-0.0233455633</td><td>  0.055238434</td><td>  -1.59542893</td></tr>\n",
       "\t<tr><th scope=row>sulphates</th><td>  0.04072402</td><td> 0.0052418701</td><td>-3.958139e-04</td><td> -0.109238677</td><td> 9.648894e-04</td><td> -0.452532463</td><td>  -2.07308724</td><td> 9.750373e-05</td><td> 4.567260e-03</td><td> 1.393609e-02</td><td>-8.266111e-03</td><td> 0.0037600751</td><td>-0.0259880871</td><td>  0.164102848</td><td>  -1.15520572</td></tr>\n",
       "\t<tr><th scope=row>alcohol</th><td> -0.11988284</td><td>-0.0158349595</td><td> 9.408049e-03</td><td> -1.678583979</td><td>-7.443842e-03</td><td> -2.851136877</td><td> -14.49701343</td><td>-2.324518e-03</td><td> 7.832336e-04</td><td>-8.266111e-03</td><td> 1.282307e+00</td><td> 0.3883340204</td><td> 0.0503424680</td><td> -0.397889569</td><td> -10.84328398</td></tr>\n",
       "\t<tr><th scope=row>quality</th><td> -0.05911065</td><td>-0.0272067304</td><td> 1.195893e-02</td><td> -0.222618258</td><td>-3.800805e-03</td><td>  0.942926253</td><td>  -0.88660851</td><td>-7.187257e-04</td><td> 4.278736e-04</td><td> 3.760075e-03</td><td> 3.883340e-01</td><td> 0.5715435577</td><td> 0.0459120351</td><td> -0.191549528</td><td>  -0.55176562</td></tr>\n",
       "\t<tr><th scope=row>type</th><td> -0.24254971</td><td>-0.0465688499</td><td> 1.405956e-02</td><td>  0.667142954</td><td>-6.532486e-03</td><td>  3.531661911</td><td>  17.10966617</td><td>-5.237732e-04</td><td>-2.334556e-02</td><td>-2.598809e-02</td><td> 5.034247e-02</td><td> 0.0459120351</td><td> 0.1805408344</td><td> -0.948284328</td><td>   6.75167278</td></tr>\n",
       "\t<tr><th scope=row>Acidity_pH_interaction</th><td>  3.82281778</td><td> 0.1939896036</td><td> 7.122511e-02</td><td> -3.390311802</td><td> 3.828744e-02</td><td>-20.901426451</td><td> -86.21403616</td><td> 4.826115e-03</td><td> 5.523843e-02</td><td> 1.641028e-01</td><td>-3.978896e-01</td><td>-0.1915495281</td><td>-0.9482843276</td><td> 12.686990785</td><td> -34.51265462</td></tr>\n",
       "\t<tr><th scope=row>resugar_alcohol_interaction</th><td> -7.31659148</td><td>-1.4049602677</td><td> 5.982966e-01</td><td>184.059198683</td><td>-1.793929e-01</td><td>308.052490429</td><td>1173.76033039</td><td> 5.243435e-02</td><td>-1.595429e+00</td><td>-1.155206e+00</td><td>-1.084328e+01</td><td>-0.5517656170</td><td> 6.7516727779</td><td>-34.512654621</td><td>1801.56090265</td></tr>\n",
       "</tbody>\n",
       "</table>\n"
      ],
      "text/latex": [
       "A matrix: 15 × 15 of type dbl\n",
       "\\begin{tabular}{r|lllllllllllllll}\n",
       "  & fixed.acidity & volatile.acidity & citric.acid & residual.sugar & chlorides & free.sulfur.dioxide & total.sulfur.dioxide & density & pH & sulphates & alcohol & quality & type & Acidity\\_pH\\_interaction & resugar\\_alcohol\\_interaction\\\\\n",
       "\\hline\n",
       "\tfixed.acidity &   1.25477159 &  0.0451576108 &  3.433486e-02 &  -0.708618498 &  1.006027e-02 &  -5.472488522 &  -22.19475565 &  1.374180e-03 & -2.968843e-02 &  4.072402e-02 & -1.198828e-01 & -0.0591106532 & -0.2425497124 &   3.822817775 &   -7.31659148\\\\\n",
       "\tvolatile.acidity &   0.04515761 &  0.0229276338 & -8.774485e-03 &  -0.141242021 &  1.763195e-03 &  -0.966882016 &   -3.98405565 &  1.424072e-04 &  6.705726e-03 &  5.241870e-03 & -1.583496e-02 & -0.0272067304 & -0.0465688499 &   0.193989604 &   -1.40496027\\\\\n",
       "\tcitric.acid &   0.03433486 & -0.0087744855 &  1.416852e-02 &   0.061041651 & -4.544868e-04 &   0.320630801 &    1.55755338 & -8.905137e-06 & -5.465015e-03 & -3.958139e-04 &  9.408049e-03 &  0.0119589302 &  0.0140595643 &   0.071225114 &    0.59829659\\\\\n",
       "\tresidual.sugar &  -0.70861850 & -0.1412420210 &  6.104165e-02 &  19.259238786 & -1.498173e-02 &  33.029668242 &  126.66992036 &  6.288315e-03 & -1.626282e-01 & -1.092387e-01 & -1.678584e+00 & -0.2226182583 &  0.6671429542 &  -3.390311802 &  184.05919868\\\\\n",
       "\tchlorides &   0.01006027 &  0.0017631951 & -4.544868e-04 &  -0.014981735 &  3.564515e-04 &  -0.106683700 &   -0.48507780 &  3.113826e-05 &  7.944128e-04 &  9.648894e-04 & -7.443842e-03 & -0.0038008047 & -0.0065324863 &   0.038287444 &   -0.17939290\\\\\n",
       "\tfree.sulfur.dioxide &  -5.47248852 & -0.9668820158 &  3.206308e-01 &  33.029668242 & -1.066837e-01 & 261.067706986 &  667.98399267 &  1.017278e-03 & -4.817391e-01 & -4.525325e-01 & -2.851137e+00 &  0.9429262525 &  3.5316619106 & -20.901426451 &  308.05249043\\\\\n",
       "\ttotal.sulfur.dioxide & -22.19475565 & -3.9840556545 &  1.557553e+00 & 126.669920364 & -4.850778e-01 & 667.983992669 & 3088.21617558 &  1.267910e-03 & -2.127056e+00 & -2.073087e+00 & -1.449701e+01 & -0.8866085140 & 17.1096661684 & -86.214036160 & 1173.76033039\\\\\n",
       "\tdensity &   0.00137418 &  0.0001424072 & -8.905137e-06 &   0.006288315 &  3.113826e-05 &   0.001017278 &    0.00126791 &  7.902376e-06 &  5.114789e-05 &  9.750373e-05 & -2.324518e-03 & -0.0007187257 & -0.0005237732 &   0.004826115 &    0.05243435\\\\\n",
       "\tpH &  -0.02968843 &  0.0067057259 & -5.465015e-03 &  -0.162628182 &  7.944128e-04 &  -0.481739080 &   -2.12705624 &  5.114789e-05 &  2.150306e-02 &  4.567260e-03 &  7.832336e-04 &  0.0004278736 & -0.0233455633 &   0.055238434 &   -1.59542893\\\\\n",
       "\tsulphates &   0.04072402 &  0.0052418701 & -3.958139e-04 &  -0.109238677 &  9.648894e-04 &  -0.452532463 &   -2.07308724 &  9.750373e-05 &  4.567260e-03 &  1.393609e-02 & -8.266111e-03 &  0.0037600751 & -0.0259880871 &   0.164102848 &   -1.15520572\\\\\n",
       "\talcohol &  -0.11988284 & -0.0158349595 &  9.408049e-03 &  -1.678583979 & -7.443842e-03 &  -2.851136877 &  -14.49701343 & -2.324518e-03 &  7.832336e-04 & -8.266111e-03 &  1.282307e+00 &  0.3883340204 &  0.0503424680 &  -0.397889569 &  -10.84328398\\\\\n",
       "\tquality &  -0.05911065 & -0.0272067304 &  1.195893e-02 &  -0.222618258 & -3.800805e-03 &   0.942926253 &   -0.88660851 & -7.187257e-04 &  4.278736e-04 &  3.760075e-03 &  3.883340e-01 &  0.5715435577 &  0.0459120351 &  -0.191549528 &   -0.55176562\\\\\n",
       "\ttype &  -0.24254971 & -0.0465688499 &  1.405956e-02 &   0.667142954 & -6.532486e-03 &   3.531661911 &   17.10966617 & -5.237732e-04 & -2.334556e-02 & -2.598809e-02 &  5.034247e-02 &  0.0459120351 &  0.1805408344 &  -0.948284328 &    6.75167278\\\\\n",
       "\tAcidity\\_pH\\_interaction &   3.82281778 &  0.1939896036 &  7.122511e-02 &  -3.390311802 &  3.828744e-02 & -20.901426451 &  -86.21403616 &  4.826115e-03 &  5.523843e-02 &  1.641028e-01 & -3.978896e-01 & -0.1915495281 & -0.9482843276 &  12.686990785 &  -34.51265462\\\\\n",
       "\tresugar\\_alcohol\\_interaction &  -7.31659148 & -1.4049602677 &  5.982966e-01 & 184.059198683 & -1.793929e-01 & 308.052490429 & 1173.76033039 &  5.243435e-02 & -1.595429e+00 & -1.155206e+00 & -1.084328e+01 & -0.5517656170 &  6.7516727779 & -34.512654621 & 1801.56090265\\\\\n",
       "\\end{tabular}\n"
      ],
      "text/markdown": [
       "\n",
       "A matrix: 15 × 15 of type dbl\n",
       "\n",
       "| <!--/--> | fixed.acidity | volatile.acidity | citric.acid | residual.sugar | chlorides | free.sulfur.dioxide | total.sulfur.dioxide | density | pH | sulphates | alcohol | quality | type | Acidity_pH_interaction | resugar_alcohol_interaction |\n",
       "|---|---|---|---|---|---|---|---|---|---|---|---|---|---|---|---|\n",
       "| fixed.acidity |   1.25477159 |  0.0451576108 |  3.433486e-02 |  -0.708618498 |  1.006027e-02 |  -5.472488522 |  -22.19475565 |  1.374180e-03 | -2.968843e-02 |  4.072402e-02 | -1.198828e-01 | -0.0591106532 | -0.2425497124 |   3.822817775 |   -7.31659148 |\n",
       "| volatile.acidity |   0.04515761 |  0.0229276338 | -8.774485e-03 |  -0.141242021 |  1.763195e-03 |  -0.966882016 |   -3.98405565 |  1.424072e-04 |  6.705726e-03 |  5.241870e-03 | -1.583496e-02 | -0.0272067304 | -0.0465688499 |   0.193989604 |   -1.40496027 |\n",
       "| citric.acid |   0.03433486 | -0.0087744855 |  1.416852e-02 |   0.061041651 | -4.544868e-04 |   0.320630801 |    1.55755338 | -8.905137e-06 | -5.465015e-03 | -3.958139e-04 |  9.408049e-03 |  0.0119589302 |  0.0140595643 |   0.071225114 |    0.59829659 |\n",
       "| residual.sugar |  -0.70861850 | -0.1412420210 |  6.104165e-02 |  19.259238786 | -1.498173e-02 |  33.029668242 |  126.66992036 |  6.288315e-03 | -1.626282e-01 | -1.092387e-01 | -1.678584e+00 | -0.2226182583 |  0.6671429542 |  -3.390311802 |  184.05919868 |\n",
       "| chlorides |   0.01006027 |  0.0017631951 | -4.544868e-04 |  -0.014981735 |  3.564515e-04 |  -0.106683700 |   -0.48507780 |  3.113826e-05 |  7.944128e-04 |  9.648894e-04 | -7.443842e-03 | -0.0038008047 | -0.0065324863 |   0.038287444 |   -0.17939290 |\n",
       "| free.sulfur.dioxide |  -5.47248852 | -0.9668820158 |  3.206308e-01 |  33.029668242 | -1.066837e-01 | 261.067706986 |  667.98399267 |  1.017278e-03 | -4.817391e-01 | -4.525325e-01 | -2.851137e+00 |  0.9429262525 |  3.5316619106 | -20.901426451 |  308.05249043 |\n",
       "| total.sulfur.dioxide | -22.19475565 | -3.9840556545 |  1.557553e+00 | 126.669920364 | -4.850778e-01 | 667.983992669 | 3088.21617558 |  1.267910e-03 | -2.127056e+00 | -2.073087e+00 | -1.449701e+01 | -0.8866085140 | 17.1096661684 | -86.214036160 | 1173.76033039 |\n",
       "| density |   0.00137418 |  0.0001424072 | -8.905137e-06 |   0.006288315 |  3.113826e-05 |   0.001017278 |    0.00126791 |  7.902376e-06 |  5.114789e-05 |  9.750373e-05 | -2.324518e-03 | -0.0007187257 | -0.0005237732 |   0.004826115 |    0.05243435 |\n",
       "| pH |  -0.02968843 |  0.0067057259 | -5.465015e-03 |  -0.162628182 |  7.944128e-04 |  -0.481739080 |   -2.12705624 |  5.114789e-05 |  2.150306e-02 |  4.567260e-03 |  7.832336e-04 |  0.0004278736 | -0.0233455633 |   0.055238434 |   -1.59542893 |\n",
       "| sulphates |   0.04072402 |  0.0052418701 | -3.958139e-04 |  -0.109238677 |  9.648894e-04 |  -0.452532463 |   -2.07308724 |  9.750373e-05 |  4.567260e-03 |  1.393609e-02 | -8.266111e-03 |  0.0037600751 | -0.0259880871 |   0.164102848 |   -1.15520572 |\n",
       "| alcohol |  -0.11988284 | -0.0158349595 |  9.408049e-03 |  -1.678583979 | -7.443842e-03 |  -2.851136877 |  -14.49701343 | -2.324518e-03 |  7.832336e-04 | -8.266111e-03 |  1.282307e+00 |  0.3883340204 |  0.0503424680 |  -0.397889569 |  -10.84328398 |\n",
       "| quality |  -0.05911065 | -0.0272067304 |  1.195893e-02 |  -0.222618258 | -3.800805e-03 |   0.942926253 |   -0.88660851 | -7.187257e-04 |  4.278736e-04 |  3.760075e-03 |  3.883340e-01 |  0.5715435577 |  0.0459120351 |  -0.191549528 |   -0.55176562 |\n",
       "| type |  -0.24254971 | -0.0465688499 |  1.405956e-02 |   0.667142954 | -6.532486e-03 |   3.531661911 |   17.10966617 | -5.237732e-04 | -2.334556e-02 | -2.598809e-02 |  5.034247e-02 |  0.0459120351 |  0.1805408344 |  -0.948284328 |    6.75167278 |\n",
       "| Acidity_pH_interaction |   3.82281778 |  0.1939896036 |  7.122511e-02 |  -3.390311802 |  3.828744e-02 | -20.901426451 |  -86.21403616 |  4.826115e-03 |  5.523843e-02 |  1.641028e-01 | -3.978896e-01 | -0.1915495281 | -0.9482843276 |  12.686990785 |  -34.51265462 |\n",
       "| resugar_alcohol_interaction |  -7.31659148 | -1.4049602677 |  5.982966e-01 | 184.059198683 | -1.793929e-01 | 308.052490429 | 1173.76033039 |  5.243435e-02 | -1.595429e+00 | -1.155206e+00 | -1.084328e+01 | -0.5517656170 |  6.7516727779 | -34.512654621 | 1801.56090265 |\n",
       "\n"
      ],
      "text/plain": [
       "                            fixed.acidity volatile.acidity citric.acid  \n",
       "fixed.acidity                 1.25477159   0.0451576108     3.433486e-02\n",
       "volatile.acidity              0.04515761   0.0229276338    -8.774485e-03\n",
       "citric.acid                   0.03433486  -0.0087744855     1.416852e-02\n",
       "residual.sugar               -0.70861850  -0.1412420210     6.104165e-02\n",
       "chlorides                     0.01006027   0.0017631951    -4.544868e-04\n",
       "free.sulfur.dioxide          -5.47248852  -0.9668820158     3.206308e-01\n",
       "total.sulfur.dioxide        -22.19475565  -3.9840556545     1.557553e+00\n",
       "density                       0.00137418   0.0001424072    -8.905137e-06\n",
       "pH                           -0.02968843   0.0067057259    -5.465015e-03\n",
       "sulphates                     0.04072402   0.0052418701    -3.958139e-04\n",
       "alcohol                      -0.11988284  -0.0158349595     9.408049e-03\n",
       "quality                      -0.05911065  -0.0272067304     1.195893e-02\n",
       "type                         -0.24254971  -0.0465688499     1.405956e-02\n",
       "Acidity_pH_interaction        3.82281778   0.1939896036     7.122511e-02\n",
       "resugar_alcohol_interaction  -7.31659148  -1.4049602677     5.982966e-01\n",
       "                            residual.sugar chlorides     free.sulfur.dioxide\n",
       "fixed.acidity                -0.708618498   1.006027e-02  -5.472488522      \n",
       "volatile.acidity             -0.141242021   1.763195e-03  -0.966882016      \n",
       "citric.acid                   0.061041651  -4.544868e-04   0.320630801      \n",
       "residual.sugar               19.259238786  -1.498173e-02  33.029668242      \n",
       "chlorides                    -0.014981735   3.564515e-04  -0.106683700      \n",
       "free.sulfur.dioxide          33.029668242  -1.066837e-01 261.067706986      \n",
       "total.sulfur.dioxide        126.669920364  -4.850778e-01 667.983992669      \n",
       "density                       0.006288315   3.113826e-05   0.001017278      \n",
       "pH                           -0.162628182   7.944128e-04  -0.481739080      \n",
       "sulphates                    -0.109238677   9.648894e-04  -0.452532463      \n",
       "alcohol                      -1.678583979  -7.443842e-03  -2.851136877      \n",
       "quality                      -0.222618258  -3.800805e-03   0.942926253      \n",
       "type                          0.667142954  -6.532486e-03   3.531661911      \n",
       "Acidity_pH_interaction       -3.390311802   3.828744e-02 -20.901426451      \n",
       "resugar_alcohol_interaction 184.059198683  -1.793929e-01 308.052490429      \n",
       "                            total.sulfur.dioxide density       pH           \n",
       "fixed.acidity                -22.19475565         1.374180e-03 -2.968843e-02\n",
       "volatile.acidity              -3.98405565         1.424072e-04  6.705726e-03\n",
       "citric.acid                    1.55755338        -8.905137e-06 -5.465015e-03\n",
       "residual.sugar               126.66992036         6.288315e-03 -1.626282e-01\n",
       "chlorides                     -0.48507780         3.113826e-05  7.944128e-04\n",
       "free.sulfur.dioxide          667.98399267         1.017278e-03 -4.817391e-01\n",
       "total.sulfur.dioxide        3088.21617558         1.267910e-03 -2.127056e+00\n",
       "density                        0.00126791         7.902376e-06  5.114789e-05\n",
       "pH                            -2.12705624         5.114789e-05  2.150306e-02\n",
       "sulphates                     -2.07308724         9.750373e-05  4.567260e-03\n",
       "alcohol                      -14.49701343        -2.324518e-03  7.832336e-04\n",
       "quality                       -0.88660851        -7.187257e-04  4.278736e-04\n",
       "type                          17.10966617        -5.237732e-04 -2.334556e-02\n",
       "Acidity_pH_interaction       -86.21403616         4.826115e-03  5.523843e-02\n",
       "resugar_alcohol_interaction 1173.76033039         5.243435e-02 -1.595429e+00\n",
       "                            sulphates     alcohol       quality      \n",
       "fixed.acidity                4.072402e-02 -1.198828e-01 -0.0591106532\n",
       "volatile.acidity             5.241870e-03 -1.583496e-02 -0.0272067304\n",
       "citric.acid                 -3.958139e-04  9.408049e-03  0.0119589302\n",
       "residual.sugar              -1.092387e-01 -1.678584e+00 -0.2226182583\n",
       "chlorides                    9.648894e-04 -7.443842e-03 -0.0038008047\n",
       "free.sulfur.dioxide         -4.525325e-01 -2.851137e+00  0.9429262525\n",
       "total.sulfur.dioxide        -2.073087e+00 -1.449701e+01 -0.8866085140\n",
       "density                      9.750373e-05 -2.324518e-03 -0.0007187257\n",
       "pH                           4.567260e-03  7.832336e-04  0.0004278736\n",
       "sulphates                    1.393609e-02 -8.266111e-03  0.0037600751\n",
       "alcohol                     -8.266111e-03  1.282307e+00  0.3883340204\n",
       "quality                      3.760075e-03  3.883340e-01  0.5715435577\n",
       "type                        -2.598809e-02  5.034247e-02  0.0459120351\n",
       "Acidity_pH_interaction       1.641028e-01 -3.978896e-01 -0.1915495281\n",
       "resugar_alcohol_interaction -1.155206e+00 -1.084328e+01 -0.5517656170\n",
       "                            type          Acidity_pH_interaction\n",
       "fixed.acidity               -0.2425497124   3.822817775         \n",
       "volatile.acidity            -0.0465688499   0.193989604         \n",
       "citric.acid                  0.0140595643   0.071225114         \n",
       "residual.sugar               0.6671429542  -3.390311802         \n",
       "chlorides                   -0.0065324863   0.038287444         \n",
       "free.sulfur.dioxide          3.5316619106 -20.901426451         \n",
       "total.sulfur.dioxide        17.1096661684 -86.214036160         \n",
       "density                     -0.0005237732   0.004826115         \n",
       "pH                          -0.0233455633   0.055238434         \n",
       "sulphates                   -0.0259880871   0.164102848         \n",
       "alcohol                      0.0503424680  -0.397889569         \n",
       "quality                      0.0459120351  -0.191549528         \n",
       "type                         0.1805408344  -0.948284328         \n",
       "Acidity_pH_interaction      -0.9482843276  12.686990785         \n",
       "resugar_alcohol_interaction  6.7516727779 -34.512654621         \n",
       "                            resugar_alcohol_interaction\n",
       "fixed.acidity                 -7.31659148              \n",
       "volatile.acidity              -1.40496027              \n",
       "citric.acid                    0.59829659              \n",
       "residual.sugar               184.05919868              \n",
       "chlorides                     -0.17939290              \n",
       "free.sulfur.dioxide          308.05249043              \n",
       "total.sulfur.dioxide        1173.76033039              \n",
       "density                        0.05243435              \n",
       "pH                            -1.59542893              \n",
       "sulphates                     -1.15520572              \n",
       "alcohol                      -10.84328398              \n",
       "quality                       -0.55176562              \n",
       "type                           6.75167278              \n",
       "Acidity_pH_interaction       -34.51265462              \n",
       "resugar_alcohol_interaction 1801.56090265              "
      ]
     },
     "metadata": {},
     "output_type": "display_data"
    }
   ],
   "source": [
    "var(total_wine_data)"
   ]
  },
  {
   "cell_type": "markdown",
   "metadata": {},
   "source": [
    "#### The code above represents the covariance variance matrix of our variables."
   ]
  },
  {
   "cell_type": "code",
   "execution_count": null,
   "metadata": {
    "scrolled": true
   },
   "outputs": [],
   "source": [
    "pairs(total_wine_data)"
   ]
  },
  {
   "cell_type": "code",
   "execution_count": null,
   "metadata": {},
   "outputs": [],
   "source": [
    "cor(total_wine_data[1:13])"
   ]
  },
  {
   "cell_type": "markdown",
   "metadata": {},
   "source": [
    "The code above represents the correlation matrix of our varibles. \n",
    "\n",
    "We can notice that variable ```alcohol``` and ```density```, ```type``` and ```total.sulfur.dioxide```, ```type``` and ```volatile acidity```, ```chlorides``` and ```volatile.acidity``` are highly correlated. We should be careful later for the regressions.\n",
    "\n",
    "All other variable correlations appear to be low or moderate.\n",
    "\n",
    "And note that for the correlation between quality and the some independent variables like fixed.acidity, residual.sugar and pH is relatively low. This could be signifying that these variables may not be as relevant?  We might want to look at these later on when we were select the preditor for our regression model."
   ]
  },
  {
   "cell_type": "markdown",
   "metadata": {},
   "source": [
    "## Model Selection"
   ]
  },
  {
   "cell_type": "markdown",
   "metadata": {},
   "source": [
    "Before we begin our model selection process, we want to make sure that we have a test dataset to measure the performance of our prediction models in latter steps. Specifically, we will be splitting our existing dataset into training and testing data, in which the split will be a 70% - 30% split. This is the split that as our group had decided during the first phase of the project. "
   ]
  },
  {
   "cell_type": "code",
   "execution_count": 13,
   "metadata": {},
   "outputs": [],
   "source": [
    "# Here we split the data by creating an true false table, where true has a probability of 70%:\n",
    "\n",
    "# If we want to keep our output to be consistence, we will need to set the random seed.\n",
    "set.seed(26)\n",
    "\n",
    "sample = sample(c(TRUE, FALSE), nrow(total_wine_data), replace=TRUE, prob=c(0.7,0.3))\n",
    "train  = total_wine_data[sample, ]\n",
    "test   = total_wine_data[!sample, ]"
   ]
  },
  {
   "cell_type": "code",
   "execution_count": 14,
   "metadata": {
    "scrolled": false
   },
   "outputs": [
    {
     "data": {
      "text/html": [
       "<style>\n",
       ".list-inline {list-style: none; margin:0; padding: 0}\n",
       ".list-inline>li {display: inline-block}\n",
       ".list-inline>li:not(:last-child)::after {content: \"\\00b7\"; padding: 0 .5ex}\n",
       "</style>\n",
       "<ol class=list-inline><li>0.702615193026152</li><li>1</li></ol>\n"
      ],
      "text/latex": [
       "\\begin{enumerate*}\n",
       "\\item 0.702615193026152\n",
       "\\item 1\n",
       "\\end{enumerate*}\n"
      ],
      "text/markdown": [
       "1. 0.702615193026152\n",
       "2. 1\n",
       "\n",
       "\n"
      ],
      "text/plain": [
       "[1] 0.7026152 1.0000000"
      ]
     },
     "metadata": {},
     "output_type": "display_data"
    },
    {
     "data": {
      "text/html": [
       "<style>\n",
       ".list-inline {list-style: none; margin:0; padding: 0}\n",
       ".list-inline>li {display: inline-block}\n",
       ".list-inline>li:not(:last-child)::after {content: \"\\00b7\"; padding: 0 .5ex}\n",
       "</style>\n",
       "<ol class=list-inline><li>0.297384806973848</li><li>1</li></ol>\n"
      ],
      "text/latex": [
       "\\begin{enumerate*}\n",
       "\\item 0.297384806973848\n",
       "\\item 1\n",
       "\\end{enumerate*}\n"
      ],
      "text/markdown": [
       "1. 0.297384806973848\n",
       "2. 1\n",
       "\n",
       "\n"
      ],
      "text/plain": [
       "[1] 0.2973848 1.0000000"
      ]
     },
     "metadata": {},
     "output_type": "display_data"
    }
   ],
   "source": [
    "# Checking the split has been done successfully:\n",
    "\n",
    "dim(train)/dim(total_wine_data)\n",
    "dim(test)/dim(total_wine_data)"
   ]
  },
  {
   "cell_type": "code",
   "execution_count": 15,
   "metadata": {},
   "outputs": [],
   "source": [
    "# Here, we prepare another set of data in which this version of data contains outliers we previously removed.\n",
    "# We can use these data to do a robustness check for our models, and see how it performs.\n",
    "set.seed(26)\n",
    "sample = sample(c(TRUE, FALSE), nrow(with_outlier), replace=TRUE, prob=c(0.7,0.3))\n",
    "train2  = with_outlier[sample, ]\n",
    "test_2   = with_outlier[!sample, ]"
   ]
  },
  {
   "cell_type": "markdown",
   "metadata": {},
   "source": [
    "### Now that we have training and test data ready, we will first start by using a linear regression model to fit our data.\n",
    "\n",
    "Recall that our group's prediction problem is of type regression, where we want to use input variables in the dataset to predict the quality of a wine with a scale from 1 to 10, so **quality** will be our target variable.\n",
    "\n",
    "Lets start with a linear regression model that includes all the variables in our dataset:"
   ]
  },
  {
   "cell_type": "code",
   "execution_count": 16,
   "metadata": {
    "scrolled": false
   },
   "outputs": [
    {
     "data": {
      "text/plain": [
       "\n",
       "Call:\n",
       "lm(formula = quality ~ ., data = train)\n",
       "\n",
       "Residuals:\n",
       "     Min       1Q   Median       3Q      Max \n",
       "-2.38097 -0.42018 -0.00706  0.46052  1.91710 \n",
       "\n",
       "Coefficients:\n",
       "                              Estimate Std. Error t value Pr(>|t|)    \n",
       "(Intercept)                  1.098e+02  2.399e+01   4.579 4.88e-06 ***\n",
       "fixed.acidity               -3.609e-01  2.849e-01  -1.267  0.20527    \n",
       "volatile.acidity            -9.531e-01  1.330e-01  -7.168 9.68e-13 ***\n",
       "citric.acid                 -7.411e-02  1.341e-01  -0.553  0.58044    \n",
       "residual.sugar               4.895e-02  3.026e-02   1.618  0.10587    \n",
       "chlorides                   -2.039e+00  1.304e+00  -1.564  0.11795    \n",
       "free.sulfur.dioxide          5.928e-03  1.161e-03   5.107 3.49e-07 ***\n",
       "total.sulfur.dioxide        -1.232e-03  4.715e-04  -2.613  0.00903 ** \n",
       "density                     -1.067e+02  2.405e+01  -4.437 9.49e-06 ***\n",
       "pH                          -3.369e-01  6.260e-01  -0.538  0.59044    \n",
       "sulphates                    1.150e+00  1.277e-01   9.006  < 2e-16 ***\n",
       "alcohol                      1.797e-01  3.182e-02   5.649 1.78e-08 ***\n",
       "type                        -1.750e-01  9.636e-02  -1.816  0.06945 .  \n",
       "Acidity_pH_interaction       1.523e-01  8.922e-02   1.707  0.08798 .  \n",
       "resugar_alcohol_interaction  3.320e-04  2.871e-03   0.116  0.90796    \n",
       "---\n",
       "Signif. codes:  0 ‘***’ 0.001 ‘**’ 0.01 ‘*’ 0.05 ‘.’ 0.1 ‘ ’ 1\n",
       "\n",
       "Residual standard error: 0.6362 on 2806 degrees of freedom\n",
       "Multiple R-squared:  0.2845,\tAdjusted R-squared:  0.281 \n",
       "F-statistic: 79.71 on 14 and 2806 DF,  p-value: < 2.2e-16\n"
      ]
     },
     "metadata": {},
     "output_type": "display_data"
    }
   ],
   "source": [
    "lm1  = lm(quality ~ ., data = train)\n",
    "summary(lm1)"
   ]
  },
  {
   "cell_type": "markdown",
   "metadata": {},
   "source": [
    "- With the above multiple linear regression that included all the independent variables, we have a r squared of 28.45%, which means about 28% of the variation in Y (quality) can be explained by our independent variables.\n",
    "\n",
    "\n",
    "- Furthermore, our F-statistics value is 79.71, which is greater than F critical. This can be illustrating that the model is significant.\n",
    "\n",
    "\n",
    "- And looking at the p-value for each independent variable, we can see that only half of the independent variables are statistically significant in predicting Y(quality of wine). However, we will need to keep in mind that there are issues like collinearity that can cause problems in interpreting the coefficients, so what we are going to do next is to perform variable selection techniques together with cross valiadation to try to obtain the best model possible. "
   ]
  },
  {
   "cell_type": "markdown",
   "metadata": {},
   "source": [
    "#### But before we begin the cross validation process, we can first  indirectly estimate test error rate by looking at how Cp, BIC, and Adjusted R2 change with every addition of preditor:"
   ]
  },
  {
   "cell_type": "code",
   "execution_count": 17,
   "metadata": {},
   "outputs": [
    {
     "data": {
      "text/plain": [
       "Subset selection object\n",
       "Call: regsubsets.formula(quality ~ ., train, nvmax = 14)\n",
       "14 Variables  (and intercept)\n",
       "                            Forced in Forced out\n",
       "fixed.acidity                   FALSE      FALSE\n",
       "volatile.acidity                FALSE      FALSE\n",
       "citric.acid                     FALSE      FALSE\n",
       "residual.sugar                  FALSE      FALSE\n",
       "chlorides                       FALSE      FALSE\n",
       "free.sulfur.dioxide             FALSE      FALSE\n",
       "total.sulfur.dioxide            FALSE      FALSE\n",
       "density                         FALSE      FALSE\n",
       "pH                              FALSE      FALSE\n",
       "sulphates                       FALSE      FALSE\n",
       "alcohol                         FALSE      FALSE\n",
       "type                            FALSE      FALSE\n",
       "Acidity_pH_interaction          FALSE      FALSE\n",
       "resugar_alcohol_interaction     FALSE      FALSE\n",
       "1 subsets of each size up to 14\n",
       "Selection Algorithm: exhaustive\n",
       "          fixed.acidity volatile.acidity citric.acid residual.sugar chlorides\n",
       "1  ( 1 )  \" \"           \" \"              \" \"         \" \"            \" \"      \n",
       "2  ( 1 )  \" \"           \"*\"              \" \"         \" \"            \" \"      \n",
       "3  ( 1 )  \" \"           \"*\"              \" \"         \" \"            \" \"      \n",
       "4  ( 1 )  \" \"           \"*\"              \" \"         \" \"            \" \"      \n",
       "5  ( 1 )  \" \"           \"*\"              \" \"         \" \"            \" \"      \n",
       "6  ( 1 )  \" \"           \"*\"              \" \"         \" \"            \" \"      \n",
       "7  ( 1 )  \" \"           \"*\"              \" \"         \" \"            \"*\"      \n",
       "8  ( 1 )  \"*\"           \"*\"              \" \"         \"*\"            \" \"      \n",
       "9  ( 1 )  \"*\"           \"*\"              \" \"         \"*\"            \" \"      \n",
       "10  ( 1 ) \"*\"           \"*\"              \" \"         \"*\"            \" \"      \n",
       "11  ( 1 ) \"*\"           \"*\"              \" \"         \"*\"            \"*\"      \n",
       "12  ( 1 ) \"*\"           \"*\"              \"*\"         \"*\"            \"*\"      \n",
       "13  ( 1 ) \"*\"           \"*\"              \"*\"         \"*\"            \"*\"      \n",
       "14  ( 1 ) \"*\"           \"*\"              \"*\"         \"*\"            \"*\"      \n",
       "          free.sulfur.dioxide total.sulfur.dioxide density pH  sulphates\n",
       "1  ( 1 )  \" \"                 \" \"                  \" \"     \" \" \" \"      \n",
       "2  ( 1 )  \" \"                 \" \"                  \" \"     \" \" \" \"      \n",
       "3  ( 1 )  \" \"                 \" \"                  \" \"     \" \" \"*\"      \n",
       "4  ( 1 )  \"*\"                 \" \"                  \" \"     \" \" \"*\"      \n",
       "5  ( 1 )  \"*\"                 \"*\"                  \" \"     \" \" \"*\"      \n",
       "6  ( 1 )  \"*\"                 \"*\"                  \" \"     \" \" \"*\"      \n",
       "7  ( 1 )  \"*\"                 \"*\"                  \" \"     \" \" \"*\"      \n",
       "8  ( 1 )  \"*\"                 \" \"                  \"*\"     \" \" \"*\"      \n",
       "9  ( 1 )  \"*\"                 \"*\"                  \"*\"     \" \" \"*\"      \n",
       "10  ( 1 ) \"*\"                 \"*\"                  \"*\"     \" \" \"*\"      \n",
       "11  ( 1 ) \"*\"                 \"*\"                  \"*\"     \" \" \"*\"      \n",
       "12  ( 1 ) \"*\"                 \"*\"                  \"*\"     \" \" \"*\"      \n",
       "13  ( 1 ) \"*\"                 \"*\"                  \"*\"     \"*\" \"*\"      \n",
       "14  ( 1 ) \"*\"                 \"*\"                  \"*\"     \"*\" \"*\"      \n",
       "          alcohol type Acidity_pH_interaction resugar_alcohol_interaction\n",
       "1  ( 1 )  \"*\"     \" \"  \" \"                    \" \"                        \n",
       "2  ( 1 )  \"*\"     \" \"  \" \"                    \" \"                        \n",
       "3  ( 1 )  \"*\"     \" \"  \" \"                    \" \"                        \n",
       "4  ( 1 )  \"*\"     \" \"  \" \"                    \" \"                        \n",
       "5  ( 1 )  \"*\"     \" \"  \" \"                    \" \"                        \n",
       "6  ( 1 )  \"*\"     \" \"  \" \"                    \"*\"                        \n",
       "7  ( 1 )  \"*\"     \" \"  \" \"                    \"*\"                        \n",
       "8  ( 1 )  \"*\"     \" \"  \"*\"                    \" \"                        \n",
       "9  ( 1 )  \"*\"     \" \"  \"*\"                    \" \"                        \n",
       "10  ( 1 ) \"*\"     \"*\"  \"*\"                    \" \"                        \n",
       "11  ( 1 ) \"*\"     \"*\"  \"*\"                    \" \"                        \n",
       "12  ( 1 ) \"*\"     \"*\"  \"*\"                    \" \"                        \n",
       "13  ( 1 ) \"*\"     \"*\"  \"*\"                    \" \"                        \n",
       "14  ( 1 ) \"*\"     \"*\"  \"*\"                    \"*\"                        "
      ]
     },
     "metadata": {},
     "output_type": "display_data"
    }
   ],
   "source": [
    "library(leaps)\n",
    "regfit.full = regsubsets(quality~., train, nvmax = 14)\n",
    "reg.summary = summary(regfit.full)\n",
    "reg.summary"
   ]
  },
  {
   "cell_type": "code",
   "execution_count": 18,
   "metadata": {},
   "outputs": [
    {
     "data": {
      "text/html": [
       "<style>\n",
       ".list-inline {list-style: none; margin:0; padding: 0}\n",
       ".list-inline>li {display: inline-block}\n",
       ".list-inline>li:not(:last-child)::after {content: \"\\00b7\"; padding: 0 .5ex}\n",
       "</style>\n",
       "<ol class=list-inline><li>'which'</li><li>'rsq'</li><li>'rss'</li><li>'adjr2'</li><li>'cp'</li><li>'bic'</li><li>'outmat'</li><li>'obj'</li></ol>\n"
      ],
      "text/latex": [
       "\\begin{enumerate*}\n",
       "\\item 'which'\n",
       "\\item 'rsq'\n",
       "\\item 'rss'\n",
       "\\item 'adjr2'\n",
       "\\item 'cp'\n",
       "\\item 'bic'\n",
       "\\item 'outmat'\n",
       "\\item 'obj'\n",
       "\\end{enumerate*}\n"
      ],
      "text/markdown": [
       "1. 'which'\n",
       "2. 'rsq'\n",
       "3. 'rss'\n",
       "4. 'adjr2'\n",
       "5. 'cp'\n",
       "6. 'bic'\n",
       "7. 'outmat'\n",
       "8. 'obj'\n",
       "\n",
       "\n"
      ],
      "text/plain": [
       "[1] \"which\"  \"rsq\"    \"rss\"    \"adjr2\"  \"cp\"     \"bic\"    \"outmat\" \"obj\"   "
      ]
     },
     "metadata": {},
     "output_type": "display_data"
    }
   ],
   "source": [
    "names(reg.summary)"
   ]
  },
  {
   "cell_type": "code",
   "execution_count": 19,
   "metadata": {
    "scrolled": false
   },
   "outputs": [
    {
     "data": {
      "image/png": "[encoded data removed]",
      "text/plain": [
       "plot without title"
      ]
     },
     "metadata": {
      "image/png": {
       "height": 420,
       "width": 420
      },
      "text/plain": {
       "height": 420,
       "width": 420
      }
     },
     "output_type": "display_data"
    }
   ],
   "source": [
    "par(mfrow = c(2,3))\n",
    "cxlab = \"Number of Variables\" \n",
    "plot(reg.summary$adjr2, xlab = cxlab, ylab = \"Rsq Adjusted\", type=\"l\")\n",
    "ind = which.max(reg.summary$adjr2) \n",
    "points(ind, reg.summary$adjr2[ind], col = \"red\", cex = 2, pch = 20)\n",
    "\n",
    "plot(reg.summary$cp, xlab = cxlab, ylab = \"Cp\",type = \"l\")\n",
    "ind = which.min(reg.summary$cp) \n",
    "points(ind, reg.summary$cp[ind], col = \"red\", cex = 2, pch = 20) \n",
    "\n",
    "plot(reg.summary$bic, xlab = cxlab, ylab = \"BIC\", type = \"l\")\n",
    "ind = which.min(reg.summary$bic) \n",
    "points(ind, reg.summary$bic[ind], col = \"red\", cex = 2, pch = 20) "
   ]
  },
  {
   "cell_type": "markdown",
   "metadata": {},
   "source": [
    "From the plot above, we can see that:\n",
    "- with the value of Adjusted R2, it suggest that the optimal number of variables are **11**.\n",
    "\n",
    "- with the value of Cp, it suggest that the optimal number of variables are **11**.\n",
    "\n",
    "- with the value of BIC, it suggest that the optimal number of variables are **9**.\n",
    "\n",
    "It seems clear that the optimal model should have a number of preditors in the range of 9 to 11. Now, lets perform a 10 fold cross validation, as it can be providing a more accurate assessment of how our multiple linear regression model will perform on newly unseen data."
   ]
  },
  {
   "cell_type": "code",
   "execution_count": 20,
   "metadata": {},
   "outputs": [],
   "source": [
    "# To perform cross-validation at each model size, we have to do best subset selection within each of the k training sets.\n",
    "# In the leaps library, we can use the regsubsets() function to perfrom best subset selection\n",
    "library(leaps)\n",
    "predict.regsubsets = function(object, newdata, id, ...){\n",
    "    form = as.formula(object$call[[2]])    \n",
    "    mat = model.matrix(form, newdata)\n",
    "    coefi = coef(object, id = id)\n",
    "    xvars = names(coefi)\n",
    "    mat[, xvars] %*% coefi\n",
    "}"
   ]
  },
  {
   "cell_type": "code",
   "execution_count": 21,
   "metadata": {},
   "outputs": [],
   "source": [
    "# As alway, we want to first set a seed for consistency:\n",
    "set.seed(26)\n",
    "\n",
    "# First, we will ceate a vector that allocates observations to one of the 10 k folds\n",
    "k = 10\n",
    "folds = sample(1:k, nrow(train), replace = TRUE) # sample into folds\n",
    "cv.errors = matrix(NA, k, 14, dimnames = list(NULL, paste(1:14))) # create a amtrix to store the results"
   ]
  },
  {
   "cell_type": "code",
   "execution_count": 22,
   "metadata": {},
   "outputs": [],
   "source": [
    "# Then, by using a nested for loop, we can then perform cv on each of the k training sets:\n",
    "# Note that the metric use here would be MSE\n",
    "\n",
    "for(j in 1:k){\n",
    "    best.fit = regsubsets(quality ~ ., data = train[folds != j, ], nvmax = 14)\n",
    "    for (i in 1:14){\n",
    "        pred = predict(best.fit, train[folds == j, ], id = i)\n",
    "        cv.errors[j, i] = mean((train$quality[folds == j] - pred)^2)\n",
    "    }\n",
    "}"
   ]
  },
  {
   "cell_type": "code",
   "execution_count": 23,
   "metadata": {},
   "outputs": [
    {
     "data": {
      "text/html": [
       "<style>\n",
       ".dl-inline {width: auto; margin:0; padding: 0}\n",
       ".dl-inline>dt, .dl-inline>dd {float: none; width: auto; display: inline-block}\n",
       ".dl-inline>dt::after {content: \":\\0020\"; padding-right: .5ex}\n",
       ".dl-inline>dt:not(:first-of-type) {padding-left: .5ex}\n",
       "</style><dl class=dl-inline><dt>1</dt><dd>0.447685782007607</dd><dt>2</dt><dd>0.428499532607978</dd><dt>3</dt><dd>0.41749818043738</dd><dt>4</dt><dd>0.413539200346827</dd><dt>5</dt><dd>0.414221133316292</dd><dt>6</dt><dd>0.410826868087666</dd><dt>7</dt><dd>0.41299382839588</dd><dt>8</dt><dd>0.412341832976186</dd><dt>9</dt><dd>0.406355585646724</dd><dt>10</dt><dd>0.407033650406097</dd><dt>11</dt><dd>0.406439856331381</dd><dt>12</dt><dd>0.40686732402047</dd><dt>13</dt><dd>0.407096313451152</dd><dt>14</dt><dd>0.40710158766621</dd></dl>\n"
      ],
      "text/latex": [
       "\\begin{description*}\n",
       "\\item[1] 0.447685782007607\n",
       "\\item[2] 0.428499532607978\n",
       "\\item[3] 0.41749818043738\n",
       "\\item[4] 0.413539200346827\n",
       "\\item[5] 0.414221133316292\n",
       "\\item[6] 0.410826868087666\n",
       "\\item[7] 0.41299382839588\n",
       "\\item[8] 0.412341832976186\n",
       "\\item[9] 0.406355585646724\n",
       "\\item[10] 0.407033650406097\n",
       "\\item[11] 0.406439856331381\n",
       "\\item[12] 0.40686732402047\n",
       "\\item[13] 0.407096313451152\n",
       "\\item[14] 0.40710158766621\n",
       "\\end{description*}\n"
      ],
      "text/markdown": [
       "1\n",
       ":   0.4476857820076072\n",
       ":   0.4284995326079783\n",
       ":   0.417498180437384\n",
       ":   0.4135392003468275\n",
       ":   0.4142211333162926\n",
       ":   0.4108268680876667\n",
       ":   0.412993828395888\n",
       ":   0.4123418329761869\n",
       ":   0.40635558564672410\n",
       ":   0.40703365040609711\n",
       ":   0.40643985633138112\n",
       ":   0.4068673240204713\n",
       ":   0.40709631345115214\n",
       ":   0.40710158766621\n",
       "\n"
      ],
      "text/plain": [
       "        1         2         3         4         5         6         7         8 \n",
       "0.4476858 0.4284995 0.4174982 0.4135392 0.4142211 0.4108269 0.4129938 0.4123418 \n",
       "        9        10        11        12        13        14 \n",
       "0.4063556 0.4070337 0.4064399 0.4068673 0.4070963 0.4071016 "
      ]
     },
     "metadata": {},
     "output_type": "display_data"
    }
   ],
   "source": [
    "mean.cv.errors = apply(cv.errors, 2, mean) # average over columns of matrix\n",
    "mean.cv.errors"
   ]
  },
  {
   "cell_type": "code",
   "execution_count": 24,
   "metadata": {
    "scrolled": false
   },
   "outputs": [
    {
     "data": {
      "text/html": [
       "<strong>9:</strong> 9"
      ],
      "text/latex": [
       "\\textbf{9:} 9"
      ],
      "text/markdown": [
       "**9:** 9"
      ],
      "text/plain": [
       "9 \n",
       "9 "
      ]
     },
     "metadata": {},
     "output_type": "display_data"
    }
   ],
   "source": [
    "which.min(mean.cv.errors)"
   ]
  },
  {
   "cell_type": "code",
   "execution_count": 113,
   "metadata": {},
   "outputs": [
    {
     "data": {
      "image/png": "[encoded data removed]",
      "text/plain": [
       "plot without title"
      ]
     },
     "metadata": {
      "image/png": {
       "height": 420,
       "width": 420
      },
      "text/plain": {
       "height": 420,
       "width": 420
      }
     },
     "output_type": "display_data"
    }
   ],
   "source": [
    "plot(mean.cv.errors, xlab = cxlab, type=\"l\")\n",
    "ind = which.min(mean.cv.errors)\n",
    "points(ind, mean.cv.errors[ind], col = \"red\", cex = 2, pch = 20)"
   ]
  },
  {
   "cell_type": "markdown",
   "metadata": {},
   "source": [
    "From the combined result of best subset selection and 10 folds cross valiadation, oue results suggest that the optimal number of predictor to use is 9 (This agree with what we have above from the indirectly estimate of test rate error). \n",
    "\n",
    "Together with the table generated from best subset selection algorithem, we can see that the best predictor to use for our linear regression model are:\n",
    "- fixed.acidity, volatile.acidity, residual.sugar,  free.sulfur.dioxide, total.sulfur.dioxide, density, sulphates, alcohol, and  Acidity_pH_interaction\n",
    "\n",
    "Also, we can see that our model have a estimated test error rate (estimate of MSE) of **0.4063**.\n"
   ]
  },
  {
   "cell_type": "markdown",
   "metadata": {},
   "source": [
    "#### Now,  we can use a linear regression model again to fit our data, but this time with the best model we arrival above:"
   ]
  },
  {
   "cell_type": "code",
   "execution_count": 25,
   "metadata": {},
   "outputs": [
    {
     "data": {
      "text/plain": [
       "\n",
       "Call:\n",
       "lm(formula = quality_form, data = train)\n",
       "\n",
       "Residuals:\n",
       "    Min      1Q  Median      3Q     Max \n",
       "-2.4259 -0.4294 -0.0074  0.4610  1.9116 \n",
       "\n",
       "Coefficients:\n",
       "                         Estimate Std. Error t value Pr(>|t|)    \n",
       "(Intercept)             98.357880  18.288647   5.378 8.15e-08 ***\n",
       "fixed.acidity           -0.214769   0.045761  -4.693 2.82e-06 ***\n",
       "volatile.acidity        -0.852340   0.109711  -7.769 1.10e-14 ***\n",
       "residual.sugar           0.048521   0.007394   6.562 6.28e-11 ***\n",
       "free.sulfur.dioxide      0.006384   0.001120   5.700 1.33e-08 ***\n",
       "total.sulfur.dioxide    -0.001707   0.000378  -4.515 6.59e-06 ***\n",
       "density                -96.588936  18.351837  -5.263 1.52e-07 ***\n",
       "sulphates                1.174956   0.126415   9.294  < 2e-16 ***\n",
       "alcohol                  0.194915   0.025772   7.563 5.30e-14 ***\n",
       "Acidity_pH_interaction   0.104540   0.018379   5.688 1.42e-08 ***\n",
       "---\n",
       "Signif. codes:  0 ‘***’ 0.001 ‘**’ 0.01 ‘*’ 0.05 ‘.’ 0.1 ‘ ’ 1\n",
       "\n",
       "Residual standard error: 0.6361 on 2811 degrees of freedom\n",
       "Multiple R-squared:  0.2833,\tAdjusted R-squared:  0.281 \n",
       "F-statistic: 123.4 on 9 and 2811 DF,  p-value: < 2.2e-16\n"
      ]
     },
     "metadata": {},
     "output_type": "display_data"
    }
   ],
   "source": [
    "quality_form = quality ~ fixed.acidity + volatile.acidity + residual.sugar + free.sulfur.dioxide + total.sulfur.dioxide + density + sulphates + alcohol + Acidity_pH_interaction\n",
    "lm2  = lm(quality_form, data = train)\n",
    "summary(lm2)"
   ]
  },
  {
   "cell_type": "markdown",
   "metadata": {},
   "source": [
    "- With the new model, we can see from the resulting p-values for all the predictors that all the predictor in the model are statistically significant in predicting Y(quality of wine).\n",
    "\n",
    "\n",
    "- It is also important to note the the R^2 for this model remains roughly the same. Intuitivally this agrees with prediction theory, since R^2 mechanically increases as more variables are added. Since we removed some of the variables in the model, it did not have a significant impact on R^2. \n",
    "\n"
   ]
  },
  {
   "cell_type": "markdown",
   "metadata": {},
   "source": [
    "#### Before we move on to the next model, lets see how the multi linear regression model perform with data that has more outliers:"
   ]
  },
  {
   "cell_type": "code",
   "execution_count": 31,
   "metadata": {},
   "outputs": [],
   "source": [
    "# Again, using a 10 fold cross validation, lets see what the estimated test error rate will be:\n",
    "\n",
    "set.seed(26)\n",
    "k = 10\n",
    "folds = sample(1:k, nrow(train2), replace = TRUE) \n",
    "cv.errors = matrix(NA, k, 14, dimnames = list(NULL, paste(1:14))) \n",
    "\n",
    "for(j in 1:k){\n",
    "    best.fit = regsubsets(quality ~ ., data = train2[folds != j, ], nvmax = 14)\n",
    "    for (i in 1:14){\n",
    "        pred = predict(best.fit, train2[folds == j, ], id = i)\n",
    "        cv.errors[j, i] = mean((train2$quality[folds == j] - pred)^2)\n",
    "    }\n",
    "}"
   ]
  },
  {
   "cell_type": "code",
   "execution_count": 32,
   "metadata": {
    "scrolled": false
   },
   "outputs": [
    {
     "data": {
      "text/html": [
       "<style>\n",
       ".dl-inline {width: auto; margin:0; padding: 0}\n",
       ".dl-inline>dt, .dl-inline>dd {float: none; width: auto; display: inline-block}\n",
       ".dl-inline>dt::after {content: \":\\0020\"; padding-right: .5ex}\n",
       ".dl-inline>dt:not(:first-of-type) {padding-left: .5ex}\n",
       "</style><dl class=dl-inline><dt>1</dt><dd>0.604826273375659</dd><dt>2</dt><dd>0.560486986591635</dd><dt>3</dt><dd>0.552528734928411</dd><dt>4</dt><dd>0.554759371343586</dd><dt>5</dt><dd>0.549258895696602</dd><dt>6</dt><dd>0.542955316927842</dd><dt>7</dt><dd>0.541215346924105</dd><dt>8</dt><dd>0.541335025256437</dd><dt>9</dt><dd>0.536979650458416</dd><dt>10</dt><dd>0.536055003411908</dd><dt>11</dt><dd>0.537616650598726</dd><dt>12</dt><dd>0.537644697505237</dd><dt>13</dt><dd>0.537445159152927</dd><dt>14</dt><dd>0.537275110562004</dd></dl>\n"
      ],
      "text/latex": [
       "\\begin{description*}\n",
       "\\item[1] 0.604826273375659\n",
       "\\item[2] 0.560486986591635\n",
       "\\item[3] 0.552528734928411\n",
       "\\item[4] 0.554759371343586\n",
       "\\item[5] 0.549258895696602\n",
       "\\item[6] 0.542955316927842\n",
       "\\item[7] 0.541215346924105\n",
       "\\item[8] 0.541335025256437\n",
       "\\item[9] 0.536979650458416\n",
       "\\item[10] 0.536055003411908\n",
       "\\item[11] 0.537616650598726\n",
       "\\item[12] 0.537644697505237\n",
       "\\item[13] 0.537445159152927\n",
       "\\item[14] 0.537275110562004\n",
       "\\end{description*}\n"
      ],
      "text/markdown": [
       "1\n",
       ":   0.6048262733756592\n",
       ":   0.5604869865916353\n",
       ":   0.5525287349284114\n",
       ":   0.5547593713435865\n",
       ":   0.5492588956966026\n",
       ":   0.5429553169278427\n",
       ":   0.5412153469241058\n",
       ":   0.5413350252564379\n",
       ":   0.53697965045841610\n",
       ":   0.53605500341190811\n",
       ":   0.53761665059872612\n",
       ":   0.53764469750523713\n",
       ":   0.53744515915292714\n",
       ":   0.537275110562004\n",
       "\n"
      ],
      "text/plain": [
       "        1         2         3         4         5         6         7         8 \n",
       "0.6048263 0.5604870 0.5525287 0.5547594 0.5492589 0.5429553 0.5412153 0.5413350 \n",
       "        9        10        11        12        13        14 \n",
       "0.5369797 0.5360550 0.5376167 0.5376447 0.5374452 0.5372751 "
      ]
     },
     "metadata": {},
     "output_type": "display_data"
    },
    {
     "data": {
      "text/html": [
       "<strong>10:</strong> 10"
      ],
      "text/latex": [
       "\\textbf{10:} 10"
      ],
      "text/markdown": [
       "**10:** 10"
      ],
      "text/plain": [
       "10 \n",
       "10 "
      ]
     },
     "metadata": {},
     "output_type": "display_data"
    }
   ],
   "source": [
    "mean.cv.errors = apply(cv.errors, 2, mean) # average over columns of matrix\n",
    "mean.cv.errors\n",
    "which.min(mean.cv.errors)"
   ]
  },
  {
   "cell_type": "code",
   "execution_count": 33,
   "metadata": {},
   "outputs": [
    {
     "data": {
      "image/png": "[encoded data removed]",
      "text/plain": [
       "plot without title"
      ]
     },
     "metadata": {
      "image/png": {
       "height": 420,
       "width": 420
      },
      "text/plain": {
       "height": 420,
       "width": 420
      }
     },
     "output_type": "display_data"
    }
   ],
   "source": [
    "plot(mean.cv.errors, xlab = cxlab, type=\"l\")\n",
    "ind = which.min(mean.cv.errors)\n",
    "points(ind, mean.cv.errors[ind], col = \"red\", cex = 2, pch = 20)"
   ]
  },
  {
   "cell_type": "markdown",
   "metadata": {},
   "source": [
    "It turns out that with more outliers, the model will have result in a higher estimated error rate, and at the same time, the optimal number of predictors change as well."
   ]
  },
  {
   "cell_type": "markdown",
   "metadata": {},
   "source": [
    "### Moving on, we are also interested in how would a decision tree model fit our data:"
   ]
  },
  {
   "cell_type": "markdown",
   "metadata": {},
   "source": [
    "Once again, we will start off by fitting a model that includes all the variables in our dataset:"
   ]
  },
  {
   "cell_type": "code",
   "execution_count": 140,
   "metadata": {
    "scrolled": true
   },
   "outputs": [
    {
     "data": {
      "text/plain": [
       "\n",
       "Regression tree:\n",
       "tree(formula = quality ~ ., data = train)\n",
       "Variables actually used in tree construction:\n",
       "[1] \"alcohol\"          \"volatile.acidity\"\n",
       "Number of terminal nodes:  4 \n",
       "Residual mean deviance:  0.4344 = 1224 / 2817 \n",
       "Distribution of residuals:\n",
       "     Min.   1st Qu.    Median      Mean   3rd Qu.      Max. \n",
       "-2.364000 -0.364800 -0.002591  0.000000  0.635200  1.635000 "
      ]
     },
     "metadata": {},
     "output_type": "display_data"
    }
   ],
   "source": [
    "library(tree)\n",
    "tree.wine  = tree(quality ~ ., train)\n",
    "summary(tree.wine)"
   ]
  },
  {
   "cell_type": "markdown",
   "metadata": {},
   "source": [
    "- AS we can see, perhaps surprisingly, that out of the total 14 predictors in our dataset, only 2 variables were used to create this tree. \n",
    "\n",
    "\n",
    "- The Rss for this model, which is the Residual mean deviance is **0.4344**\n"
   ]
  },
  {
   "cell_type": "code",
   "execution_count": 141,
   "metadata": {},
   "outputs": [
    {
     "data": {
      "image/png": "[encoded data removed]",
      "text/plain": [
       "plot without title"
      ]
     },
     "metadata": {
      "image/png": {
       "height": 420,
       "width": 420
      },
      "text/plain": {
       "height": 420,
       "width": 420
      }
     },
     "output_type": "display_data"
    }
   ],
   "source": [
    "# let's plot the tree and see the shape of the tree:\n",
    "plot(tree.wine)\n",
    "text(tree.wine, pretty = 0)"
   ]
  },
  {
   "cell_type": "code",
   "execution_count": 142,
   "metadata": {},
   "outputs": [
    {
     "data": {
      "image/png": "[encoded data removed]",
      "text/plain": [
       "plot without title"
      ]
     },
     "metadata": {
      "image/png": {
       "height": 420,
       "width": 420
      },
      "text/plain": {
       "height": 420,
       "width": 420
      }
     },
     "output_type": "display_data"
    }
   ],
   "source": [
    "cv.wine <- cv.tree(tree.wine)\n",
    "plot(cv.wine$size, cv.wine$dev, type = \"b\")"
   ]
  },
  {
   "cell_type": "markdown",
   "metadata": {},
   "source": [
    "By using the cv.tree() function, we are technically performing cross-validation to find the optimal tree complexity (using cost-complexity pruning). And looking at the plot above, we can see that the Residual mean deviance is lowest with a node size of 4."
   ]
  },
  {
   "cell_type": "markdown",
   "metadata": {},
   "source": [
    "#### Once again, lets see how the model fit onto our data with more outliers:"
   ]
  },
  {
   "cell_type": "code",
   "execution_count": 118,
   "metadata": {
    "scrolled": false
   },
   "outputs": [
    {
     "data": {
      "text/plain": [
       "\n",
       "Regression tree:\n",
       "tree(formula = quality ~ ., data = train2)\n",
       "Variables actually used in tree construction:\n",
       "[1] \"alcohol\"             \"volatile.acidity\"    \"free.sulfur.dioxide\"\n",
       "Number of terminal nodes:  7 \n",
       "Residual mean deviance:  0.5706 = 2123 / 3721 \n",
       "Distribution of residuals:\n",
       "    Min.  1st Qu.   Median     Mean  3rd Qu.     Max. \n",
       "-3.22700 -0.52940 -0.09113  0.00000  0.47060  2.98000 "
      ]
     },
     "metadata": {},
     "output_type": "display_data"
    },
    {
     "data": {
      "image/png": "[encoded data removed]",
      "text/plain": [
       "plot without title"
      ]
     },
     "metadata": {
      "image/png": {
       "height": 420,
       "width": 420
      },
      "text/plain": {
       "height": 420,
       "width": 420
      }
     },
     "output_type": "display_data"
    }
   ],
   "source": [
    "tree.wine  = tree(quality ~ ., train2)\n",
    "summary(tree.wine)\n",
    "cv.wine <- cv.tree(tree.wine)\n",
    "plot(cv.wine$size, cv.wine$dev, type = \"b\")"
   ]
  },
  {
   "cell_type": "markdown",
   "metadata": {},
   "source": [
    "- First thing we can notice is that the decision tree contains more nodes nows, as it actually use more predictor than our previous tree. \n",
    "\n",
    "\n",
    "- However, similar to what happen to our linear regression model, the Residual mean deviance increased. In this case, it increase from 0.4344 to 0.5706."
   ]
  },
  {
   "cell_type": "markdown",
   "metadata": {},
   "source": [
    "### Lastly, we would want to try fitting our data using bagging:"
   ]
  },
  {
   "cell_type": "code",
   "execution_count": 119,
   "metadata": {
    "scrolled": true
   },
   "outputs": [
    {
     "name": "stderr",
     "output_type": "stream",
     "text": [
      "Warning message in randomForest.default(m, y, ...):\n",
      "“The response has five or fewer unique values.  Are you sure you want to do regression?”\n"
     ]
    }
   ],
   "source": [
    "library(randomForest)\n",
    "set.seed(26)\n",
    "bag.wine  <- randomForest(quality ~ ., data = train, mtry = 14, importance = TRUE)"
   ]
  },
  {
   "cell_type": "code",
   "execution_count": 120,
   "metadata": {
    "scrolled": true
   },
   "outputs": [
    {
     "data": {
      "text/plain": [
       "\n",
       "Call:\n",
       " randomForest(formula = quality ~ ., data = train, mtry = 14,      importance = TRUE) \n",
       "               Type of random forest: regression\n",
       "                     Number of trees: 500\n",
       "No. of variables tried at each split: 14\n",
       "\n",
       "          Mean of squared residuals: 0.3721922\n",
       "                    % Var explained: 33.85"
      ]
     },
     "metadata": {},
     "output_type": "display_data"
    }
   ],
   "source": [
    "bag.wine"
   ]
  },
  {
   "cell_type": "markdown",
   "metadata": {},
   "source": [
    "As with bagging, the number of predictors to try for each split are fixed to the total number of predictor avaliable.\n",
    "\n",
    "\n",
    "And with a number of trees set to 500 by default, we get a Mean of squared residuals of **0.3721**."
   ]
  },
  {
   "cell_type": "code",
   "execution_count": 129,
   "metadata": {
    "scrolled": true
   },
   "outputs": [
    {
     "name": "stderr",
     "output_type": "stream",
     "text": [
      "Warning message in randomForest.default(m, y, ...):\n",
      "“The response has five or fewer unique values.  Are you sure you want to do regression?”\n"
     ]
    },
    {
     "data": {
      "text/plain": [
       "\n",
       "Call:\n",
       " randomForest(formula = quality ~ ., data = train, mtry = 14,      ntree = 5, importance = TRUE) \n",
       "               Type of random forest: regression\n",
       "                     Number of trees: 5\n",
       "No. of variables tried at each split: 14\n",
       "\n",
       "          Mean of squared residuals: 0.5907435\n",
       "                    % Var explained: -5"
      ]
     },
     "metadata": {},
     "output_type": "display_data"
    }
   ],
   "source": [
    "# Let test how the number of tree have an effect on the performance of the model:\n",
    "set.seed(26)\n",
    "bag.wine  <- randomForest(quality ~ ., data = train, mtry = 14, ntree = 5, importance = TRUE)\n",
    "bag.wine"
   ]
  },
  {
   "cell_type": "code",
   "execution_count": 130,
   "metadata": {
    "scrolled": true
   },
   "outputs": [
    {
     "name": "stderr",
     "output_type": "stream",
     "text": [
      "Warning message in randomForest.default(m, y, ...):\n",
      "“The response has five or fewer unique values.  Are you sure you want to do regression?”\n"
     ]
    },
    {
     "data": {
      "text/plain": [
       "\n",
       "Call:\n",
       " randomForest(formula = quality ~ ., data = train, mtry = 14,      ntree = 50, importance = TRUE) \n",
       "               Type of random forest: regression\n",
       "                     Number of trees: 50\n",
       "No. of variables tried at each split: 14\n",
       "\n",
       "          Mean of squared residuals: 0.3888872\n",
       "                    % Var explained: 30.88"
      ]
     },
     "metadata": {},
     "output_type": "display_data"
    }
   ],
   "source": [
    "set.seed(26)\n",
    "bag.wine  <- randomForest(quality ~ ., data = train, mtry = 14, ntree = 50, importance = TRUE)\n",
    "bag.wine"
   ]
  },
  {
   "cell_type": "markdown",
   "metadata": {},
   "source": [
    "From the result above, we can clearly see that as the number of tree increase, the Mean of squared residuals for the model will decrease. However, with the increase of the number of tree, we are sacrificing the interprebility of our model as the model becomes more complex. \n",
    "\n",
    "In this case, wether or not we want to choose this model over the over model we tried will depends on the level of interprebility we want our model to have."
   ]
  },
  {
   "cell_type": "markdown",
   "metadata": {},
   "source": [
    "#### Similar to what we did above, we will once again try to fit onto the data with more outliers:"
   ]
  },
  {
   "cell_type": "code",
   "execution_count": 139,
   "metadata": {},
   "outputs": [
    {
     "data": {
      "text/plain": [
       "\n",
       "Call:\n",
       " randomForest(formula = quality ~ ., data = train2, mtry = 14,      importance = TRUE) \n",
       "               Type of random forest: regression\n",
       "                     Number of trees: 500\n",
       "No. of variables tried at each split: 14\n",
       "\n",
       "          Mean of squared residuals: 0.479629\n",
       "                    % Var explained: 38.68"
      ]
     },
     "metadata": {},
     "output_type": "display_data"
    }
   ],
   "source": [
    "library(randomForest)\n",
    "set.seed(26)\n",
    "bag.wine  <- randomForest(quality ~ ., data = train2, mtry = 14, importance = TRUE)\n",
    "bag.wine"
   ]
  },
  {
   "cell_type": "markdown",
   "metadata": {},
   "source": [
    "Similarly, the outliers in the data have increase the training mse of our model."
   ]
  },
  {
   "cell_type": "markdown",
   "metadata": {},
   "source": [
    "# Final selection:\n"
   ]
  },
  {
   "cell_type": "markdown",
   "metadata": {},
   "source": [
    "Before finalizing our model choice from the options we've explored, it's crucial to identify our primary objective for this analysis. Given that our prediction problem revolves around predicting wine quality based on various inputs, we can outline two main objectives:\n",
    "\n",
    "## 1. Understanding Key Factors for High-Quality Wine:\n",
    "- **Objective:** To gain insights into the relationships between wine characteristics and their quality.\n",
    "- **Outcome:** The model should help us understand the influential factors contributing to wine quality, aiding in producing higher quality wine.\n",
    "\n",
    "## 2. Guiding Decision-making in Marketing:\n",
    "- **Objective:** If predictions are used for wine pricing or marketing strategies.\n",
    "- **Outcome:** The focus shifts to prediction accuracy rather than interpretability.\n",
    "\n",
    "For our group, our primary objective aligns with the **first** one mentioned above.\n",
    "\n",
    "## Model Complexity & Interpretability:\n",
    "A simpler model might be more desirable if it offers performance comparable to a complex one. Simpler models:\n",
    "- Are easier to interpret.\n",
    "- Are more maintainable.\n",
    "- Generalize better to unseen data.\n",
    "\n",
    "Given our emphasis on interpretability, **Linear Regression** stands out as our model of choice. Being a parametric model, its simplicity and well-defined functional form enhance its interpretability.\n",
    "\n",
    "## Side Notes:\n",
    "\n",
    "- **Predictive Performance:** Linear regression slightly outperforms the decision tree in estimated test error rate and is only marginally outperformed by the bagging model (considering ntree = 500).\n",
    "- **Robustness:** All three models have limited capability to handle outliers.\n",
    "- **Computational Cost:** The bagging model, especially with a high number of trees, demands the most computational power and runtime."
   ]
  },
  {
   "cell_type": "markdown",
   "metadata": {},
   "source": [
    "### Testing the chosen model on test set"
   ]
  },
  {
   "cell_type": "code",
   "execution_count": 26,
   "metadata": {},
   "outputs": [
    {
     "data": {
      "text/html": [
       "0.418986873990049"
      ],
      "text/latex": [
       "0.418986873990049"
      ],
      "text/markdown": [
       "0.418986873990049"
      ],
      "text/plain": [
       "[1] 0.4189869"
      ]
     },
     "metadata": {},
     "output_type": "display_data"
    }
   ],
   "source": [
    "lm.fits = lm(quality_form, data = train)\n",
    "lm.probs = predict(lm.fits, test)\n",
    "test_mse = mean((lm.probs - test$quality) ^ 2)\n",
    "test_mse"
   ]
  },
  {
   "cell_type": "markdown",
   "metadata": {},
   "source": [
    "### Testing the chosen model on test set with more outlier"
   ]
  },
  {
   "cell_type": "code",
   "execution_count": 28,
   "metadata": {
    "scrolled": true
   },
   "outputs": [
    {
     "data": {
      "text/html": [
       "0.535256416968996"
      ],
      "text/latex": [
       "0.535256416968996"
      ],
      "text/markdown": [
       "0.535256416968996"
      ],
      "text/plain": [
       "[1] 0.5352564"
      ]
     },
     "metadata": {},
     "output_type": "display_data"
    }
   ],
   "source": [
    "lm.fits = lm(quality_form, data = train2)\n",
    "lm.probs = predict(lm.fits, test_2)\n",
    "test_mse = mean((lm.probs - test_2$quality) ^ 2)\n",
    "test_mse"
   ]
  }
 ],
 "metadata": {
  "kernelspec": {
   "display_name": "Python 3 (ipykernel)",
   "language": "python",
   "name": "python3"
  },
  "language_info": {
   "codemirror_mode": {
    "name": "ipython",
    "version": 3
   },
   "file_extension": ".py",
   "mimetype": "text/x-python",
   "name": "python",
   "nbconvert_exporter": "python",
   "pygments_lexer": "ipython3",
   "version": "3.10.9"
  }
 },
 "nbformat": 4,
 "nbformat_minor": 4
}
